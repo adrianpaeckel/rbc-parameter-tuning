{
 "cells": [
  {
   "cell_type": "markdown",
   "id": "1249445e",
   "metadata": {},
   "source": [
    "# Optimization script\n",
    "This script evaluates the measurements on the system, updates the models and returns the next parameters based on the forecast context variable.\n",
    "The script has to be executed at the beginning of each day, so that the next parameters are set to the RBC in simulation/rbc_3_1_2.py every day from 0 to 1 AM.During this period of time the control script will reset the SoC of the battery to 55%"
   ]
  },
  {
   "cell_type": "markdown",
   "id": "dfb52dd0",
   "metadata": {},
   "source": [
    "## Import libs and set constants"
   ]
  },
  {
   "cell_type": "code",
   "execution_count": 2,
   "id": "bd330320",
   "metadata": {},
   "outputs": [
    {
     "name": "stdout",
     "output_type": "stream",
     "text": [
      "['..', '/Users/adrianpaeckelripoll/rbc-parameter-tuning/experiment_codes', '/opt/anaconda3/envs/env1/lib/python39.zip', '/opt/anaconda3/envs/env1/lib/python3.9', '/opt/anaconda3/envs/env1/lib/python3.9/lib-dynload', '', '/opt/anaconda3/envs/env1/lib/python3.9/site-packages', '/opt/anaconda3/envs/env1/lib/python3.9/site-packages/IPython/extensions', '/Users/adrianpaeckelripoll/.ipython']\n",
      "/Users/adrianpaeckelripoll/rbc-parameter-tuning/mtfunc   was appended to PYTHONPATH\n"
     ]
    }
   ],
   "source": [
    "import numpy as np\n",
    "import os\n",
    "import glob\n",
    "import matplotlib.pyplot as plt\n",
    "import matplotlib as mpl\n",
    "import sys\n",
    "sys.path.insert(0,'..')\n",
    "from mtfunc.helper import *\n",
    "from mtfunc.datacqui import *\n",
    "import safeopt\n",
    "import pandas as pd\n",
    "import time\n",
    "import tensorflow as tf\n",
    "hour=60\n",
    "day=24*hour\n",
    "C=96 #kWh\n",
    "soc_lim=np.array([30,80])\n",
    "p_bat_lim=1*C #1C \n",
    "p_std=p_bat_lim\n",
    "soc_std=soc_lim[1]-soc_lim[0]# do not change unless necesary\n",
    "soc_ref=(soc_lim[1]+soc_lim[0])/2\n",
    "dt=1\n",
    "optfolder='opt_recovery'"
   ]
  },
  {
   "cell_type": "markdown",
   "id": "3c2209fc",
   "metadata": {},
   "source": [
    "## Define context forecast functions"
   ]
  },
  {
   "cell_type": "code",
   "execution_count": 6,
   "id": "445e5c21",
   "metadata": {
    "code_folding": [
     5,
     50,
     76,
     87,
     94
    ]
   },
   "outputs": [],
   "source": [
    "#Import saved models\n",
    "demand_10min_model=tf.keras.models.load_model('../saved_models/loss_10minpowerdev_convtd_powerdemand_dayweeksincos_4h')\n",
    "demand_model=tf.keras.models.load_model('../saved_models/loss_demand_convtd_1dpowerdemand_Tfc_dayweeksincos_7w_ctxt/')\n",
    "PV_model=tf.keras.models.load_model('../saved_models/s1PVpower_3conv')\n",
    "#Acquire NEST data and preprocess it\n",
    "def data_prepocess():\n",
    "    #Sample time\n",
    "    dt=hour\n",
    "    #Forecast horizon\n",
    "    STEPS=day//dt\n",
    "    #Power baseline function\n",
    "    def baseline_fun(data):\n",
    "        order=12*hour/dt\n",
    "        base_idx=signal.argrelmin(data.values,order=int(order))[0]\n",
    "        mask=np.empty_like(data.values)\n",
    "        mask[:]=np.nan\n",
    "        bs=pd.Series(mask)\n",
    "        bs.iloc[base_idx]=data.iloc[base_idx]\n",
    "        bs=bs.ffill()\n",
    "        bs=bs.bfill()\n",
    "        return bs.mean()\n",
    "    #Get input data for PV model from NEST\n",
    "    PV=get_PV(dt=dt*60,d=9)\n",
    "    #Get input data for demand model from NEST\n",
    "    load=get_demand_fc_data(dt=dt*60,d=9)\n",
    "    load.rename(columns={'power_bypass_ehub':'power_load'},inplace=True)\n",
    "    data=pd.concat([pd.DataFrame({'power_pv':PV}),load],axis=1)\n",
    "    data['power_demand']=data.power_load+data.power_pv\n",
    "    data.loc[data.power_demand.values<0,'power_demand']=0    \n",
    "    data.reset_index(inplace=True)\n",
    "    #Remove baseline\n",
    "    for i in range(len(data)-STEPS):\n",
    "        data.loc[i+STEPS,'bs']=baseline_fun(data.power_demand.iloc[i:i+STEPS])\n",
    "    data.set_index('timestamp',inplace=True,drop=True)\n",
    "    data.bs=data.bs.bfill()\n",
    "    shft=data.reset_index()[data.index.strftime('%A')=='Monday'].index[0]\n",
    "    #Generate periodic sin/cos time signals\n",
    "    print('Cos/sin week start on: ',data.index[shft].strftime('%A'))\n",
    "    data=data.reset_index(drop=False)\n",
    "    data.power_demand=data.power_demand-data.bs\n",
    "    data.loc[data.power_demand.values<0,'power_demand']=0\n",
    "    data['time']=data.index*dt-shft*dt\n",
    "    data['day_sin']=np.sin(2*np.pi*data.time/day)\n",
    "    data['day_cos']=np.cos(2*np.pi*data.time/day)\n",
    "    data['week_sin']=np.sin(2*np.pi*data.time/day/7)\n",
    "    data['week_cos']=np.cos(2*np.pi*data.time/day/7)\n",
    "    data=data.drop(columns=['time']) \n",
    "    #Shift all signals but the load power\n",
    "    data[['outside_temperature_fc','day_sin','day_cos','week_sin','week_cos']]=data[['outside_temperature_fc','day_sin','day_cos','week_sin','week_cos']].shift(-day//dt)\n",
    "    data=data.set_index('timestamp',drop=True)\n",
    "    return data.dropna()\n",
    "#Generate demand power forecast\n",
    "def demand_fc(model=demand_model,short_term=demand_10min_model):\n",
    "    #Use both CNNs of the demand model to generate forecast\n",
    "    dt=60\n",
    "    dt10min=10    \n",
    "    #Get data and preprocess it\n",
    "    data=data_prepocess().reset_index()\n",
    "    #Set conv widths\n",
    "    conv_width_demand=7*day//dt\n",
    "    conv_width_10=4*hour//dt10min\n",
    "    STEPS=day//dt\n",
    "    Tin=conv_width_demand+STEPS-1\n",
    "    #Set inputs of both CNN\n",
    "    inputs_demand=['power_demand','outside_temperature_fc',\n",
    "        'day_sin','day_cos','week_sin','week_cos']        \n",
    "    inputs_demand_10min=['power_demand',\n",
    "        'day_sin','day_cos','week_sin','week_cos']  \n",
    "    #Predict hourly demand\n",
    "    p_hour=model.predict(data.loc[:,inputs_demand].values[None,:,:]).flatten()\n",
    "    data.loc[len(data)-len(p_hour):,'power_demand']=p_hour\n",
    "    data=data.set_index('timestamp').resample(f'{dt10min}T').mean().interpolate().reset_index()\n",
    "    #Predict 10 min demand deviation\n",
    "    p_dev=short_term.predict(data.loc[:,inputs_demand_10min].values[None,:,:]).flatten()\n",
    "    data.loc[len(data)-len(p_dev):,'power_dev']=p_dev\n",
    "    data['power_demand']=data.power_demand-data.power_dev\n",
    "    data.loc[data.power_demand<0,'power_demand']=0\n",
    "    data=data[1*day//dt10min:].set_index('timestamp').resample(f'{dt}T').mean().interpolate()\n",
    "    data.power_demand=data.power_demand+data.bs.iloc[-2*day//dt:].mean()\n",
    "    return data.iloc[-day//dt:]\n",
    "#Generate PV power forecast\n",
    "def pv_fc(model=PV_model):\n",
    "    dt=hour\n",
    "    #Get input data\n",
    "    data=get_weather_fc(dt=dt*60,d=2)\n",
    "    data[['outside_temperature_fc','rh_outside_fc','global_radiation_fc']]=data[['outside_temperature_fc','rh_outside_fc','global_radiation_fc']].shift(-day//dt)\n",
    "    inputs_PV=['global_radiation_fc', 'outside_temperature_fc', 'rh_outside_fc',\n",
    "       'solar_elevation', 'solar_azimuth']    \n",
    "    data=data.dropna()\n",
    "    #Predict PV power \n",
    "    p_pv=model.predict(data.loc[:,inputs_PV].values[None,:,:]).flatten()\n",
    "    data.loc[len(data)-len(p_pv):,'power_pv']=p_pv\n",
    "    return data.iloc[-day//dt:]\n",
    "#Load forecast\n",
    "def load_generator():\n",
    "    dt=60\n",
    "    #Get PV power forecast\n",
    "    p_pv=pv_fc()['power_pv']\n",
    "    #Get demand power forecast\n",
    "    p_d=demand_fc()['power_demand']\n",
    "    data=pd.concat([p_pv,p_d],axis=1)\n",
    "    #Calculate load power forecast\n",
    "    data['power_load']=data.power_demand-data.power_pv\n",
    "    return data\n",
    "#Calculate context variable forecast\n",
    "def data_context(data):\n",
    "    dt=60\n",
    "    data[['power_load','power_pv','power_demand']].plot()\n",
    "    data['power_load_']=np.clip(data.power_load,-p_bat_lim,p_bat_lim)\n",
    "    data['pp']=data.power_load_[data.power_load>0]\n",
    "    data.pp=data.pp.fillna(0)\n",
    "    data['pm']=data.power_load_[data.power_load<=0]\n",
    "    data.pm=data.pm.fillna(0)\n",
    "    data.drop(columns='power_load_',inplace=True)\n",
    "    data['e_dis']=data.pp.sum()/hour*dt/C #kWh\n",
    "    data['e_char']=data.pm.sum()/hour*dt/C #kWh\n",
    "    data.e_char=data.e_char.abs()\n",
    "    data.e_char=np.clip(data.e_char,0,np.diff(soc_lim)[0]/100)\n",
    "    return data\n",
    "def context_fc():\n",
    "    return data_context(load_generator())['e_char'].values[0]"
   ]
  },
  {
   "cell_type": "markdown",
   "id": "71b26be1",
   "metadata": {},
   "source": [
    "# Initialize CSBO"
   ]
  },
  {
   "cell_type": "code",
   "execution_count": 112,
   "id": "5ab453c3",
   "metadata": {},
   "outputs": [],
   "source": [
    "#Set initial parameters, metrics and context\n",
    "past_ctxt=np.atleast_2d([0])\n",
    "past_par=np.array([[0.5,-0.5]])\n",
    "past_prf=np.array([[-4.34,0.4]])"
   ]
  },
  {
   "cell_type": "code",
   "execution_count": 90,
   "id": "485cd17b",
   "metadata": {},
   "outputs": [
    {
     "name": "stdout",
     "output_type": "stream",
     "text": [
      "[3.4225000000000003 list([0.355, 0.17]) 0.07896100000000002\n",
      " list([0.412, 0.231]) 0.042435999999999995 list([0.181, 0.167]) 2 0.3\n",
      " 0.824 0.67]\n",
      "[[ 0.5 -0.5  0. ]] [[-4.34  0.4 ]]\n",
      "This is local package in rbc-parameter-tuning\n",
      "next par:  [ 0.543 -0.357]\n",
      "opt_recovery/CSBO2_2022_03_09_0437\n"
     ]
    },
    {
     "data": {
      "text/plain": [
       "0"
      ]
     },
     "execution_count": 90,
     "metadata": {},
     "output_type": "execute_result"
    }
   ],
   "source": [
    "import safeopt\n",
    "import GPy\n",
    "# Experimental HPs\n",
    "hp=get_data('../simulation/hps/ESRBC/hyperpar_loglike2_b2.npy')\n",
    "Vz=hp[0]\n",
    "Lz=hp[1]\n",
    "Vq=hp[2]\n",
    "Lq=hp[3]\n",
    "Vqs=hp[4]\n",
    "Lqs=hp[5]\n",
    "beta=hp[6]\n",
    "Lctxt_z=hp[7]\n",
    "Lctxt_q=hp[8]\n",
    "Lctxt_qs=hp[9]\n",
    "print(hp)\n",
    "noise_cst = 2e-1#cst_mmnt_noise.mean()/10\n",
    "noise_const =5e-4\n",
    "\n",
    "# Bounds on the inputs variable\n",
    "bounds = [(0., 4.),(-1,1)]\n",
    "parameter_set = safeopt.linearly_spaced_combinations(bounds, 200)\n",
    "parameter_set=parameter_set[parameter_set[:,0]>=-parameter_set[:,1]]\n",
    "# Define kernels\n",
    "cost_kernel_ = GPy.kern.RBF(input_dim=len(bounds), variance=Vz, lengthscale=[Lz[0],Lz[1]], ARD=True,active_dims=[0,1])\n",
    "cost_context_kernel=GPy.kern.RBF(input_dim=1, variance=1, lengthscale=Lctxt_z, ARD=True,active_dims=[2],name='context')\n",
    "cost_kernel=cost_kernel_*cost_context_kernel\n",
    "\n",
    "const_kernel_=GPy.kern.RBF(input_dim=len(bounds), variance=Vq, lengthscale=[Lq[0],Lq[1]], ARD=True,active_dims=[0,1])\n",
    "const_context_kernel=GPy.kern.RBF(input_dim=1, variance=1, lengthscale=Lctxt_q, ARD=True,active_dims=[2],name='context')\n",
    "const_kernel=const_kernel_*const_context_kernel\n",
    "\n",
    "# safeconst_kernel_=GPy.kern.RBF(input_dim=len(bounds), variance=Vqs, lengthscale=[Lqs[0],Lqs[1]], ARD=True,active_dims=[0,1])\n",
    "# safeconst_context_kernel=GPy.kern.RBF(input_dim=1, variance=1, lengthscale=Lctxt_qs, ARD=True,active_dims=[2],name='context')\n",
    "# safeconst_kernel=safeconst_kernel_*safeconst_context_kernel\n",
    "\n",
    "\n",
    "context=np.array([[past_ctxt[0]]])\n",
    "x0=np.hstack([past_par[0,:],past_ctxt[0]])\n",
    "x0=x0[None]\n",
    "y0= np.atleast_2d(past_prf[0,:])\n",
    "print(x0,y0)\n",
    "cost_gp = GPy.models.GPRegression(x0,y0[:,0,None], cost_kernel, noise_var=noise_cst)\n",
    "const_gp= GPy.models.GPRegression(x0,y0[:,1,None], const_kernel, noise_var=noise_const)\n",
    "# safeconst_gp= GPy.models.GPRegression(x,y0[:,2,None], safeconst_kernel, noise_var=noise_safeconst)\n",
    "gp=[cost_gp,const_gp]\n",
    "# The optimization routine\n",
    "opt_ucb=safeopt.SafeOpt(gp,parameter_set=parameter_set,fmin=[-np.inf,-0], threshold=np.array([-np.inf,-np.inf]),beta=beta,num_contexts=1)\n",
    "x_next=np.round(opt_ucb.optimize(ucb=True,context=context),3)  \n",
    "#Use this parameters\n",
    "print('next par: ',x_next)\n"
   ]
  },
  {
   "cell_type": "code",
   "execution_count": 74,
   "id": "5de417fd",
   "metadata": {},
   "outputs": [
    {
     "data": {
      "text/plain": [
       "array([[ 0.5  , -0.5  ],\n",
       "       [ 0.543, -0.357]])"
      ]
     },
     "execution_count": 74,
     "metadata": {},
     "output_type": "execute_result"
    }
   ],
   "source": [
    "np.vstack([past_par,x_next])\n",
    "save_data(opt_ucb.gps,'CSBO2',folder=optfolder,pick=True)\n",
    "save_data(past_par,'past_par',folder=optfolder)\n",
    "save_data(past_prf,'past_prf',folder=optfolder)\n",
    "save_data(past_ctxt,'past_ctxt',folder=optfolder)"
   ]
  },
  {
   "cell_type": "markdown",
   "id": "aec912a3",
   "metadata": {},
   "source": [
    "#  Optimization"
   ]
  },
  {
   "cell_type": "code",
   "execution_count": 75,
   "id": "f3f07d91",
   "metadata": {
    "code_folding": [],
    "scrolled": true
   },
   "outputs": [],
   "source": [
    "P1=188 # buy price in euro/MWh\n",
    "P2=170\n",
    "P3=115\n",
    "S1=53 #sell price in euro/MWh\n",
    "B1=0\n",
    "#Define the start and end date for the measurement evaluation. Change the date every day to the start and end date of the experiment with some parameters.\n",
    "#This is done in case the same parameters are used for multiple days due to failed experiments.\n",
    "sdate='2022-03-31 1:00'\n",
    "fdate='2022-03-31 23:59'\n",
    "#Define el. price function\n",
    "def price_fun(k=None):\n",
    "    price=DemandSignal(day,1,1)\n",
    "    price.step_signal([0.29,0.33,0.54,0.71,0.87],[P3,P2,P1,P2,P1,P3])\n",
    "    if k is None:\n",
    "        return price.signal\n",
    "    else:\n",
    "        return price.signal[k]\n",
    "# Get load power data from the visuallizer\n",
    "def get_power_data():\n",
    "    power_data=get_resampled(dt=60,d=1)\n",
    "    power_data['power_pv']=get_PV(dt=60,d=1)\n",
    "    power_data['power_demand']=power_data.power_pv+power_data.power_bypass_ehub\n",
    "    return power_data    \n",
    " \n",
    "def get_perf(df,par=None,p_bat_label='PT200',p_load_label='p_avg',dt=dt,T=1,sdate=sdate,fdate=fdate):\n",
    "    #Calculate performance metric \n",
    "    #par: paramters on which to calculate the metric\n",
    "    #sdate: start date \n",
    "    #fdata: end date\n",
    "    T=int(T*day*23/24)\n",
    "    data=df[[p_bat_label,p_load_label,'SoC']].copy()\n",
    "    if par is not None :\n",
    "        data=data.loc[(df.par0==par[0]) & (df.par1==par[1])]\n",
    "    data=data.resample(f'{dt}T').mean().interpolate().dropna()\n",
    "    data=data.loc[sdate:fdate]\n",
    "    data.plot()\n",
    "    p_bat=data[p_bat_label].values\n",
    "    p_load=data[p_load_label].values\n",
    "    def r_price_sell_fun():    \n",
    "        def price_sell_map_fun(p_bat,p_load,f_buy,f_sell,f_bat):\n",
    "            if (-p_bat<=p_load)&(p_load>=0):\n",
    "                return -p_bat*f_buy + max(0,np.sign(-p_bat))*p_bat*f_bat\n",
    "            if (-p_bat>p_load)&(p_load>=0):\n",
    "                return -f_sell*(p_bat+p_load)+f_buy*p_load + max(0,np.sign(-p_bat))*p_bat*f_bat\n",
    "            if (-p_bat<=p_load)&(p_load<0):\n",
    "                return -f_buy*(p_bat+p_load)+f_sell*p_load + max(0,np.sign(-p_bat))*p_bat*f_bat\n",
    "            if (-p_bat>p_load)&(p_load<0):\n",
    "                return -p_bat*f_sell + max(0,np.sign(-p_bat))*p_bat*f_bat\n",
    "            else: return 0\n",
    "        return np.array(list(map(price_sell_map_fun,p_bat,p_load,price_fun(),S1*np.ones(T),B1*np.ones(T))))/hour*dt*1e-3 # [euro]\n",
    "    return r_price_sell_fun().sum()\n",
    "# Get mmnt data from experiment storage folder\n",
    "def get_mmnt(last=None):\n",
    "    dir_path='/Users/adrianpaeckelripoll/rbc-parameter-tuning/experiment/ESRBC_exp0/df*'\n",
    "    path_list=sorted( glob.glob(dir_path), key = os.path.getctime)\n",
    "    print(len(path_list))\n",
    "    df_list=[]\n",
    "    if last is None:\n",
    "        last=len(path_list)    \n",
    "    for pth in path_list[-last:]:\n",
    "        df_list.append(get_data(pth,npy=False))\n",
    "    df=pd.concat(df_list,axis=0) \n",
    "    df.timestamp=pd.to_datetime(df.timestamp)\n",
    "    df=df.set_index('timestamp',drop=True)\n",
    "    df.sort_index(inplace=True)\n",
    "    return df\n",
    "#Get performance metric\n",
    "def get_performance(par,sdate=sdate,fdate=fdate,last=300):\n",
    "    data=get_mmnt(last=last)\n",
    "    print(data.par0[-1],data.par1[-1],data.index[0],data.index[-1])\n",
    "    data.par0=np.round(data.par0,3)\n",
    "    data.par1=np.round(data.par1,3)    \n",
    "    return get_perf(data,par)\n",
    "#Get constraint metric\n",
    "def get_constraint(par,norm=True):\n",
    "    dt=1\n",
    "    data=get_mmnt(last=None)\n",
    "    data.par0=np.round(data.par0,3)\n",
    "    data.par1=np.round(data.par1,3) \n",
    "    if par is not None :\n",
    "        data=data.loc[(data.par0==par[0]) & (data.par1==par[1])]\n",
    "    data=data.resample(f'{dt}T').mean().interpolate().dropna()\n",
    "#     data.plot()\n",
    "    if norm:\n",
    "        return (data.loc[pd.Timestamp(fdate)].SoC-55)/soc_std\n",
    "    else:\n",
    "        return data.loc[pd.Timestamp(fdate)].SoC\n",
    "#Get past context    \n",
    "def get_past_ctxt():\n",
    "    data=get_resampled(dt=60,d=1)\n",
    "    data.columns=['power_load']\n",
    "    data['power_load_']=np.clip(data.power_load,-p_bat_lim,p_bat_lim)\n",
    "    data['pm']=data.power_load_[data.power_load<=0]\n",
    "    data.pm=data.pm.fillna(0)\n",
    "    data.drop(columns='power_load_',inplace=True)\n",
    "    return np.clip(data.pm.abs().sum()/hour*dt/C,0,np.diff(soc_lim)[0]/100)   \n",
    "# path_par=sorted( glob.glob('opt_recovery/past_par*'), key = os.path.getctime)\n",
    "# past_par=get_data(path_par[-1])\n",
    "# print(get_performance( past_par[-1]) )\n",
    "# print(get_constraint(past_par[-1],norm=False))"
   ]
  },
  {
   "cell_type": "code",
   "execution_count": 23,
   "id": "0415e5fe",
   "metadata": {
    "scrolled": true
   },
   "outputs": [
    {
     "name": "stdout",
     "output_type": "stream",
     "text": [
      "This is local package in rbc-parameter-tuning\n",
      "4535\n",
      "0.965 -0.377 2022-03-26 22:17:43 2022-04-01 00:39:07\n",
      "4535\n",
      "past par: [ 0.965 -0.377]\n",
      "perf: 3.2130494266473644 cons: 0.4040000000000001 context: 0.0\n",
      "2022-03-31 00:51:23 2022-04-02 00:51:23\n"
     ]
    },
    {
     "name": "stderr",
     "output_type": "stream",
     "text": [
      " /opt/anaconda3/envs/env1/lib/python3.9/site-packages/pandas/core/indexing.py:719: FutureWarning:Slicing a positional slice with .loc is not supported, and will raise TypeError in a future version.  Use .loc with labels or .iloc with positions instead.\n"
     ]
    },
    {
     "name": "stdout",
     "output_type": "stream",
     "text": [
      "Cos/sin week start on:  Monday\n",
      "context forecast: 0.05619941186912188\n",
      "next_par: [ 0.824 -0.387]\n",
      "[[ 0.5   -0.5  ]\n",
      " [ 0.543 -0.357]\n",
      " [ 0.563 -0.216]\n",
      " [ 0.824 -0.417]\n",
      " [ 0.362 -0.286]\n",
      " [ 0.241 -0.196]\n",
      " [ 0.08  -0.075]\n",
      " [ 0.683 -0.337]\n",
      " [ 0.764 -0.528]\n",
      " [ 0.764 -0.548]\n",
      " [ 0.844 -0.839]\n",
      " [ 0.     0.327]\n",
      " [ 0.784 -0.417]\n",
      " [ 0.965 -0.377]\n",
      " [ 0.824 -0.387]]\n",
      "[[-4.34        0.4       ]\n",
      " [ 2.28820531  0.4       ]\n",
      " [ 1.10378713  0.08      ]\n",
      " [ 2.99945759  0.03833333]\n",
      " [-2.53617525  0.37      ]\n",
      " [-2.83467767  0.32333333]\n",
      " [-3.28658513  0.4       ]\n",
      " [-0.24444916  0.27      ]\n",
      " [ 1.55495394  0.07      ]\n",
      " [-1.83074445  0.4       ]\n",
      " [-2.5598848   0.37      ]\n",
      " [ 6.31830983 -0.4       ]\n",
      " [ 8.79219133  0.4       ]\n",
      " [ 3.21304943  0.404     ]]\n",
      "[[0.        ]\n",
      " [0.5       ]\n",
      " [0.5       ]\n",
      " [0.5       ]\n",
      " [0.        ]\n",
      " [0.00052957]\n",
      " [0.        ]\n",
      " [0.5       ]\n",
      " [0.19885399]\n",
      " [0.5       ]\n",
      " [0.5       ]\n",
      " [0.07043243]\n",
      " [0.07043243]\n",
      " [0.        ]]\n"
     ]
    },
    {
     "data": {
      "image/png": "[encoded data removed]",
      "text/plain": [
       "<Figure size 432x288 with 1 Axes>"
      ]
     },
     "metadata": {
      "needs_background": "light"
     },
     "output_type": "display_data"
    },
    {
     "data": {
      "image/png": "[encoded data removed]",
      "text/plain": [
       "<Figure size 432x288 with 1 Axes>"
      ]
     },
     "metadata": {
      "needs_background": "light"
     },
     "output_type": "display_data"
    }
   ],
   "source": [
    "path_par=sorted( glob.glob('opt_recovery/past_par*'), key = os.path.getctime)\n",
    "path_ctxt=sorted( glob.glob('opt_recovery/past_ctxt*'), key = os.path.getctime)\n",
    "path_prf=sorted( glob.glob('opt_recovery/past_prf*'), key = os.path.getctime)\n",
    "path_CSBO=sorted( glob.glob('opt_recovery/CSBO2*'), key = os.path.getctime)\n",
    "if len(path_par)==0:\n",
    "    print('Not initilized')\n",
    "\n",
    "past_ctxt=get_data(path_ctxt[-1])\n",
    "past_par=get_data(path_par[-1])\n",
    "past_prf=get_data(path_prf[-1])\n",
    "gps=get_data(path_CSBO[-1],pick=True)\n",
    "# Bounds on the inputs variable\n",
    "bounds = [(0., 4.),(-1,1)]\n",
    "parameter_set = safeopt.linearly_spaced_combinations(bounds, 200)\n",
    "parameter_set=parameter_set[parameter_set[:,0]>=-parameter_set[:,1]]\n",
    "opt_ucb=safeopt.SafeOpt(gps,parameter_set=parameter_set,fmin=[-np.inf,-0], threshold=np.array([-np.inf,-np.inf]),beta=0.5,num_contexts=1)\n",
    "\n",
    "prf=get_performance(past_par[-1])\n",
    "cnst=get_constraint(past_par[-1])\n",
    "ctxt=get_past_ctxt()\n",
    "past_ctxt=np.vstack([past_ctxt,[ctxt]])\n",
    "past_prf=np.vstack([past_prf,[prf,cnst]])\n",
    "print('past par:',past_par[-1])\n",
    "print('perf:',prf,'cons:',cnst,'context:',ctxt)\n",
    "opt_ucb.add_new_data_point(past_par[-1],np.atleast_2d([prf,cnst]),context=np.atleast_2d([ctxt]))\n",
    "ctxt_fc=context_fc()\n",
    "print('context forecast:',ctxt_fc)\n",
    "next_par=np.round(opt_ucb.optimize(ucb=True,context=ctxt_fc),3)\n",
    "print('next_par:',next_par)\n",
    "past_par=np.vstack([past_par,next_par])\n",
    "\n",
    "print(past_par)\n",
    "print(past_prf)\n",
    "print(past_ctxt)"
   ]
  },
  {
   "cell_type": "markdown",
   "id": "e6b9ce1b",
   "metadata": {},
   "source": [
    "#### Save data only in case parameter experiment finished without errors.\n",
    "Process: (initialize)-loop[check perf,cnst,ctxt,ctxt_fc-->save parameters for next iteration]"
   ]
  },
  {
   "cell_type": "code",
   "execution_count": null,
   "id": "53b3d36b",
   "metadata": {},
   "outputs": [],
   "source": [
    "save_data(opt_ucb.gps,'CSBO2',folder=optfolder,pick=True)\n",
    "save_data(past_par,'past_par',folder=optfolder)\n",
    "save_data(past_prf,'past_prf',folder=optfolder)\n",
    "save_data(past_ctxt,'past_ctxt',folder=optfolder)"
   ]
  },
  {
   "cell_type": "markdown",
   "id": "14ec6f44",
   "metadata": {
    "heading_collapsed": true
   },
   "source": [
    "# Evaluation\n",
    "Replace ../optimization_sim/NL_opt/exp_opt_par_3_1_2_2022_04_06_2205.npy with new optimal parameters"
   ]
  },
  {
   "cell_type": "code",
   "execution_count": 95,
   "id": "c72bb38b",
   "metadata": {
    "hidden": true
   },
   "outputs": [
    {
     "name": "stdout",
     "output_type": "stream",
     "text": [
      "This is local package in rbc-parameter-tuning\n"
     ]
    }
   ],
   "source": [
    "path_par=sorted( glob.glob('opt_recovery/past_par*'), key = os.path.getctime)\n",
    "path_ctxt=sorted( glob.glob('opt_recovery/past_ctxt*'), key = os.path.getctime)\n",
    "path_prf=sorted( glob.glob('opt_recovery/past_prf*'), key = os.path.getctime)\n",
    "path_CSBO=sorted( glob.glob('opt_recovery/CSBO2*'), key = os.path.getctime)\n",
    "if len(path_par)==0:\n",
    "    print('Not initilized')\n",
    "\n",
    "past_ctxt=get_data(path_ctxt[1])[:9]\n",
    "past_par=get_data(path_par[1])[:9]\n",
    "past_prf=get_data(path_prf[1])[:9]\n",
    "gps=get_data(path_CSBO[-1],pick=True)\n",
    "# Bounds on the inputs variable\n",
    "bounds = [(0., 4.),(-1,1)]\n",
    "parameter_set = safeopt.linearly_spaced_combinations(bounds, 200)\n",
    "parameter_set=parameter_set[parameter_set[:,0]>=-parameter_set[:,1]]\n",
    "opt_ucb=safeopt.SafeOpt(gps,parameter_set=parameter_set,fmin=[-np.inf,-0], threshold=np.array([-np.inf,-np.inf]),beta=0.5,num_contexts=1)"
   ]
  },
  {
   "cell_type": "code",
   "execution_count": 115,
   "id": "59cac7e9",
   "metadata": {
    "hidden": true
   },
   "outputs": [
    {
     "data": {
      "text/plain": [
       "9"
      ]
     },
     "execution_count": 115,
     "metadata": {},
     "output_type": "execute_result"
    }
   ],
   "source": [
    "opt_par=get_data('../optimization_sim/NL_opt/exp_opt_par_3_1_2_2022_04_06_2205.npy')[:9]\n",
    "opt_cst=get_data('../optimization_sim/NL_opt/exp_opt_cst_3_1_2_2022_04_06_2205.npy')[:9]\n",
    "len(opt_par)"
   ]
  },
  {
   "cell_type": "code",
   "execution_count": 164,
   "id": "c6e201e7",
   "metadata": {
    "hidden": true
   },
   "outputs": [
    {
     "data": {
      "image/png": "[encoded data removed]",
      "text/plain": [
       "<Figure size 432x360 with 2 Axes>"
      ]
     },
     "metadata": {
      "needs_background": "light"
     },
     "output_type": "display_data"
    }
   ],
   "source": [
    "height2=5\n",
    "# past_par=past_par[:-1]\n",
    "with plt.style.context('science'):\n",
    "    plt.rcParams.update({'font.size': 16})                        \n",
    "    err=25e-2\n",
    "    iterations=len(past_par)\n",
    "    fig,ax=plt.subplots(2,sharex=True,figsize=(6,height2))\n",
    "\n",
    "    ax[0].plot(range(iterations),past_par[:,0],':^',label='CSBO',linewidth=1.2)\n",
    "    ax[0].plot(np.arange(len(opt_par)),opt_par[:,0],'-o',label='optimal',linewidth=1.2,color='grey')    \n",
    "    ax[1].plot(range(iterations),past_par[:,1],':^',label='CSBO',linewidth=1.2)\n",
    "    ax[1].plot(np.arange(len(opt_par)),opt_par[:,1],'-o',label='optimal',linewidth=1.2,color='grey')      \n",
    "    ax[0].set_xticks(np.arange(0,iterations,2))\n",
    "    ax[0].set_ylim([-0.1,2.6])\n",
    "    ax[1].set_ylim([-1,2])\n",
    "    ax[0].set_ylabel(r'$\\psi_0$[-]')\n",
    "    ax[0].legend()    \n",
    "    ax[1].set_ylabel(r'$\\psi_1$[-]')\n",
    "    ax[1].legend()\n",
    "    ax[0].set_xticks(np.arange(0,iterations,1))    \n",
    "\n",
    "    plt.xlabel('time [d]')\n",
    "    plt.xlim([-0,iterations])\n",
    "    plt.subplots_adjust(hspace=0.05)\n",
    "plt.savefig(f'../fig_scripts/experiment/par_exploration.pdf')\n",
    "plt.show()\n",
    "    "
   ]
  },
  {
   "cell_type": "code",
   "execution_count": 201,
   "id": "0d696947",
   "metadata": {
    "hidden": true
   },
   "outputs": [
    {
     "data": {
      "image/png": "[encoded data removed]",
      "text/plain": [
       "<Figure size 432x360 with 2 Axes>"
      ]
     },
     "metadata": {
      "needs_background": "light"
     },
     "output_type": "display_data"
    }
   ],
   "source": [
    "with plt.style.context('science'):\n",
    "    plt.rcParams.update({'font.size': 16})\n",
    "    err=25e-2\n",
    "    fig,ax=plt.subplots(2,sharex=True,figsize=(6,height2))\n",
    "    \n",
    "    ax[0].plot(range(iterations),past_prf[:,0],':^',label='CSBO',linewidth=1.2)\n",
    "    ax[0].plot(np.arange(len(opt_par)),-opt_cst[:],'-o',label='optimal',linewidth=1.2,color='grey')          \n",
    "    ax[1].plot(range(iterations),past_prf[:,1]*55,':^',label='$q_f$ violation',linewidth=1.2)\n",
    "    ax[1].hlines(0,0,iterations,'k',linestyles='--')\n",
    "    ax[1].fill_between(range(10),y1=0,y2=-20,color='red',alpha=0.1)\n",
    "#     ax[1].plot(range(iterations),rnd_opt_cst[:iterations,1],':h',label='Optimal',linewidth=1.2,color='grey')\n",
    "    ax[0].set_xticks(np.arange(0,iterations,1))\n",
    "    ax[0].set_ylim([-5,9.5])\n",
    "    ax[1].set_ylim([-5,30])\n",
    "    ax[0].set_ylabel(r'performance [CHF]')\n",
    "    ax[0].legend(ncol=2)    \n",
    "    ax[1].set_ylabel(r'final constraint [\\%]')\n",
    "    ax[1].legend(loc='upper right')\n",
    "\n",
    "    plt.xlabel('time [d]')\n",
    "    plt.xlim([-0,8.5])\n",
    "    plt.subplots_adjust(hspace=0.02)\n",
    "    plt.tight_layout()\n",
    "plt.savefig(f'../fig_scripts/experiment/exp_evaluation.pdf')\n",
    "plt.show()"
   ]
  }
 ],
 "metadata": {
  "kernelspec": {
   "display_name": "env1",
   "language": "python",
   "name": "env1"
  },
  "language_info": {
   "codemirror_mode": {
    "name": "ipython",
    "version": 3
   },
   "file_extension": ".py",
   "mimetype": "text/x-python",
   "name": "python",
   "nbconvert_exporter": "python",
   "pygments_lexer": "ipython3",
   "version": "3.9.7"
  },
  "varInspector": {
   "cols": {
    "lenName": 16,
    "lenType": 16,
    "lenVar": 40
   },
   "kernels_config": {
    "python": {
     "delete_cmd_postfix": "",
     "delete_cmd_prefix": "del ",
     "library": "var_list.py",
     "varRefreshCmd": "print(var_dic_list())"
    },
    "r": {
     "delete_cmd_postfix": ") ",
     "delete_cmd_prefix": "rm(",
     "library": "var_list.r",
     "varRefreshCmd": "cat(var_dic_list()) "
    }
   },
   "types_to_exclude": [
    "module",
    "function",
    "builtin_function_or_method",
    "instance",
    "_Feature"
   ],
   "window_display": false
  }
 },
 "nbformat": 4,
 "nbformat_minor": 5
}

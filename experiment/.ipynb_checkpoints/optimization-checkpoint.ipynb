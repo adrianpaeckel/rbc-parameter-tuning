{
 "cells": [
  {
   "cell_type": "markdown",
   "id": "d7b9c806",
   "metadata": {},
   "source": []
  },
  {
   "cell_type": "code",
   "execution_count": 2,
   "id": "bd330320",
   "metadata": {},
   "outputs": [
    {
     "name": "stdout",
     "output_type": "stream",
     "text": [
      "['..', '/Users/adrianpaeckelripoll/rbc-parameter-tuning/experiment_codes', '/opt/anaconda3/envs/env1/lib/python39.zip', '/opt/anaconda3/envs/env1/lib/python3.9', '/opt/anaconda3/envs/env1/lib/python3.9/lib-dynload', '', '/opt/anaconda3/envs/env1/lib/python3.9/site-packages', '/opt/anaconda3/envs/env1/lib/python3.9/site-packages/IPython/extensions', '/Users/adrianpaeckelripoll/.ipython']\n",
      "/Users/adrianpaeckelripoll/rbc-parameter-tuning/mtfunc   was appended to PYTHONPATH\n"
     ]
    }
   ],
   "source": [
    "import numpy as np\n",
    "import os\n",
    "import glob\n",
    "import matplotlib.pyplot as plt\n",
    "import matplotlib as mpl\n",
    "import sys\n",
    "sys.path.insert(0,'..')\n",
    "print(sys.path)\n",
    "from mtfunc.helper import *\n",
    "from mtfunc.datacqui import *\n",
    "import safeopt\n",
    "import pandas as pd\n",
    "import time\n",
    "\n",
    "hour=60\n",
    "day=24*hour\n",
    "C=96 #kWh\n",
    "soc_lim=np.array([30,80])\n",
    "p_bat_lim=1*C #1C \n",
    "p_std=p_bat_lim\n",
    "soc_std=soc_lim[1]-soc_lim[0]# do not change unless necesary\n",
    "soc_ref=(soc_lim[1]+soc_lim[0])/2\n",
    "dt=1\n",
    "optfolder='opt_recovery'"
   ]
  },
  {
   "cell_type": "code",
   "execution_count": 6,
   "id": "445e5c21",
   "metadata": {
    "code_folding": [
     5,
     50,
     76,
     87,
     94
    ]
   },
   "outputs": [],
   "source": [
    "import tensorflow as tf\n",
    "demand_10min_model=tf.keras.models.load_model('../saved_models/loss_10minpowerdev_convtd_powerdemand_dayweeksincos_4h')\n",
    "demand_model=tf.keras.models.load_model('../saved_models/loss_demand_convtd_1dpowerdemand_Tfc_dayweeksincos_7w_ctxt/')\n",
    "PV_model=tf.keras.models.load_model('../saved_models/s1PVpower_3conv')\n",
    "def data_prepocess():\n",
    "#     data=df.copy()\n",
    "    dt=hour\n",
    "    STEPS=day//dt\n",
    "    def baseline_fun(data):\n",
    "#     peak,_=signal.find_peaks(data.values,prominence=(20, None),)\n",
    "        order=12*hour/dt\n",
    "        base_idx=signal.argrelmin(data.values,order=int(order))[0]\n",
    "        mask=np.empty_like(data.values)\n",
    "        mask[:]=np.nan\n",
    "        bs=pd.Series(mask)\n",
    "        bs.iloc[base_idx]=data.iloc[base_idx]\n",
    "        bs=bs.ffill()\n",
    "        bs=bs.bfill()\n",
    "    #     bs[:]=gaussian_filter1d(bs.values,sigma=2*order)\n",
    "    #     bs.plot()\n",
    "        return bs.mean()\n",
    "#     data.power_pv_dfab_t100=-data.power_pv_dfab_t100\n",
    "    PV=get_PV(dt=dt*60,d=9)\n",
    "    load=get_demand_fc_data(dt=dt*60,d=9)\n",
    "#     print(load)\n",
    "    load.rename(columns={'power_bypass_ehub':'power_load'},inplace=True)\n",
    "    data=pd.concat([pd.DataFrame({'power_pv':PV}),load],axis=1)\n",
    "    data['power_demand']=data.power_load+data.power_pv\n",
    "    data.loc[data.power_demand.values<0,'power_demand']=0    \n",
    "    data.reset_index(inplace=True)\n",
    "    for i in range(len(data)-STEPS):\n",
    "        data.loc[i+STEPS,'bs']=baseline_fun(data.power_demand.iloc[i:i+STEPS])\n",
    "    data.set_index('timestamp',inplace=True,drop=True)\n",
    "    data.bs=data.bs.bfill()\n",
    "    shft=data.reset_index()[data.index.strftime('%A')=='Monday'].index[0]\n",
    "    print('Cos/sin week start on: ',data.index[shft].strftime('%A'))\n",
    "    data=data.reset_index(drop=False)\n",
    "    data.power_demand=data.power_demand-data.bs\n",
    "    data.loc[data.power_demand.values<0,'power_demand']=0\n",
    "    data['time']=data.index*dt-shft*dt\n",
    "    data['day_sin']=np.sin(2*np.pi*data.time/day)\n",
    "    data['day_cos']=np.cos(2*np.pi*data.time/day)\n",
    "    data['week_sin']=np.sin(2*np.pi*data.time/day/7)\n",
    "    data['week_cos']=np.cos(2*np.pi*data.time/day/7)\n",
    "    data=data.drop(columns=['time']) \n",
    "    data[['outside_temperature_fc','day_sin','day_cos','week_sin','week_cos']]=data[['outside_temperature_fc','day_sin','day_cos','week_sin','week_cos']].shift(-day//dt)\n",
    "    data=data.set_index('timestamp',drop=True)\n",
    "    return data.dropna()\n",
    "def demand_fc(model=demand_model,short_term=demand_10min_model):\n",
    "    dt=60\n",
    "    dt10min=10    \n",
    "    data=data_prepocess().reset_index()\n",
    "    conv_width_demand=7*day//dt\n",
    "    conv_width_10=4*hour//dt10min\n",
    "    STEPS=day//dt\n",
    "    Tin=conv_width_demand+STEPS-1\n",
    "    inputs_demand=['power_demand','outside_temperature_fc',\n",
    "        'day_sin','day_cos','week_sin','week_cos']        \n",
    "    inputs_demand_10min=['power_demand',\n",
    "        'day_sin','day_cos','week_sin','week_cos']     \n",
    "#     print(data)\n",
    "    p_hour=model.predict(data.loc[:,inputs_demand].values[None,:,:]).flatten()\n",
    "#     print(p_hour,len(p_hour),len(data.loc[len(data)-len(p_hour):,:]))\n",
    "    data.loc[len(data)-len(p_hour):,'power_demand']=p_hour\n",
    "    data=data.set_index('timestamp').resample(f'{dt10min}T').mean().interpolate().reset_index()\n",
    "    p_dev=short_term.predict(data.loc[:,inputs_demand_10min].values[None,:,:]).flatten()\n",
    "    data.loc[len(data)-len(p_dev):,'power_dev']=p_dev\n",
    "    data['power_demand']=data.power_demand-data.power_dev\n",
    "    data.loc[data.power_demand<0,'power_demand']=0\n",
    "    data=data[1*day//dt10min:].set_index('timestamp').resample(f'{dt}T').mean().interpolate()\n",
    "    data.power_demand=data.power_demand+data.bs.iloc[-2*day//dt:].mean()\n",
    "    return data.iloc[-day//dt:]\n",
    "def pv_fc(model=PV_model):\n",
    "    dt=hour\n",
    "    data=get_weather_fc(dt=dt*60,d=2)\n",
    "    data[['outside_temperature_fc','rh_outside_fc','global_radiation_fc']]=data[['outside_temperature_fc','rh_outside_fc','global_radiation_fc']].shift(-day//dt)\n",
    "    inputs_PV=['global_radiation_fc', 'outside_temperature_fc', 'rh_outside_fc',\n",
    "       'solar_elevation', 'solar_azimuth']    \n",
    "    data=data.dropna()\n",
    "    p_pv=model.predict(data.loc[:,inputs_PV].values[None,:,:]).flatten()\n",
    "    data.loc[len(data)-len(p_pv):,'power_pv']=p_pv\n",
    "    return data.iloc[-day//dt:]\n",
    "def load_generator():\n",
    "    dt=60\n",
    "    p_pv=pv_fc()['power_pv']\n",
    "    p_d=demand_fc()['power_demand']\n",
    "    data=pd.concat([p_pv,p_d],axis=1)\n",
    "    data['power_load']=data.power_demand-data.power_pv\n",
    "    return data\n",
    "def data_context(data):\n",
    "    dt=60\n",
    "    data[['power_load','power_pv','power_demand']].plot()\n",
    "    data['power_load_']=np.clip(data.power_load,-p_bat_lim,p_bat_lim)\n",
    "    data['pp']=data.power_load_[data.power_load>0]\n",
    "    data.pp=data.pp.fillna(0)\n",
    "    data['pm']=data.power_load_[data.power_load<=0]\n",
    "    data.pm=data.pm.fillna(0)\n",
    "    data.drop(columns='power_load_',inplace=True)\n",
    "\n",
    "    data['e_dis']=data.pp.sum()/hour*dt/C #kWh\n",
    "    data['e_char']=data.pm.sum()/hour*dt/C #kWh\n",
    "    data.e_char=data.e_char.abs()\n",
    "    data.e_char=np.clip(data.e_char,0,np.diff(soc_lim)[0]/100)\n",
    "    return data\n",
    "def context_fc():\n",
    "    \n",
    "    return data_context(load_generator())['e_char'].values[0]"
   ]
  },
  {
   "cell_type": "markdown",
   "id": "f91b0a6d",
   "metadata": {},
   "source": [
    "foo=load_generator()\n",
    "\n",
    "foo.plot()"
   ]
  },
  {
   "cell_type": "markdown",
   "id": "71b26be1",
   "metadata": {
    "heading_collapsed": true
   },
   "source": [
    "# Initialize CSBO"
   ]
  },
  {
   "cell_type": "code",
   "execution_count": 112,
   "id": "5ab453c3",
   "metadata": {
    "hidden": true
   },
   "outputs": [],
   "source": [
    "past_ctxt=np.atleast_2d([0])\n",
    "past_par=np.array([[0.5,-0.5]])\n",
    "past_prf=np.array([[-4.34,0.4]])\n"
   ]
  },
  {
   "cell_type": "code",
   "execution_count": 90,
   "id": "485cd17b",
   "metadata": {
    "hidden": true
   },
   "outputs": [
    {
     "name": "stdout",
     "output_type": "stream",
     "text": [
      "[3.4225000000000003 list([0.355, 0.17]) 0.07896100000000002\n",
      " list([0.412, 0.231]) 0.042435999999999995 list([0.181, 0.167]) 2 0.3\n",
      " 0.824 0.67]\n",
      "[[ 0.5 -0.5  0. ]] [[-4.34  0.4 ]]\n",
      "This is local package in rbc-parameter-tuning\n",
      "next par:  [ 0.543 -0.357]\n",
      "opt_recovery/CSBO2_2022_03_09_0437\n"
     ]
    },
    {
     "data": {
      "text/plain": [
       "0"
      ]
     },
     "execution_count": 90,
     "metadata": {},
     "output_type": "execute_result"
    }
   ],
   "source": [
    "import safeopt\n",
    "import GPy\n",
    "# Experimental parameters\n",
    "\n",
    "hp=get_data('../optimization_sim/sim_data_312_winter_rp0_qf_55/hyperpar_loglike2_b2__2022_03_08_0102.npy')\n",
    "Vz=hp[0]\n",
    "Lz=hp[1]\n",
    "Vq=hp[2]\n",
    "Lq=hp[3]\n",
    "Vqs=hp[4]\n",
    "Lqs=hp[5]\n",
    "beta=hp[6]\n",
    "Lctxt_z=hp[7]\n",
    "Lctxt_q=hp[8]\n",
    "Lctxt_qs=hp[9]\n",
    "print(hp)\n",
    "noise_cst = 2e-1#cst_mmnt_noise.mean()/10\n",
    "noise_const =5e-4\n",
    "\n",
    "# Bounds on the inputs variable\n",
    "bounds = [(0., 4.),(-1,1)]\n",
    "parameter_set = safeopt.linearly_spaced_combinations(bounds, 200)\n",
    "parameter_set=parameter_set[parameter_set[:,0]>=-parameter_set[:,1]]\n",
    "# Define Kernel\n",
    "# for x_ in np.random.uniform(-0.5,-0.05,10):\n",
    "\n",
    "cost_kernel_ = GPy.kern.RBF(input_dim=len(bounds), variance=Vz, lengthscale=[Lz[0],Lz[1]], ARD=True,active_dims=[0,1])\n",
    "cost_context_kernel=GPy.kern.RBF(input_dim=1, variance=1, lengthscale=Lctxt_z, ARD=True,active_dims=[2],name='context')\n",
    "cost_kernel=cost_kernel_*cost_context_kernel\n",
    "\n",
    "const_kernel_=GPy.kern.RBF(input_dim=len(bounds), variance=Vq, lengthscale=[Lq[0],Lq[1]], ARD=True,active_dims=[0,1])\n",
    "const_context_kernel=GPy.kern.RBF(input_dim=1, variance=1, lengthscale=Lctxt_q, ARD=True,active_dims=[2],name='context')\n",
    "const_kernel=const_kernel_*const_context_kernel\n",
    "\n",
    "# safeconst_kernel_=GPy.kern.RBF(input_dim=len(bounds), variance=Vqs, lengthscale=[Lqs[0],Lqs[1]], ARD=True,active_dims=[0,1])\n",
    "# safeconst_context_kernel=GPy.kern.RBF(input_dim=1, variance=1, lengthscale=Lctxt_qs, ARD=True,active_dims=[2],name='context')\n",
    "# safeconst_kernel=safeconst_kernel_*safeconst_context_kernel\n",
    "\n",
    "context=np.array([[0]])\n",
    "x0=np.hstack([past_par[0,:],past_ctxt[0]])\n",
    "x0=x0[None]\n",
    "y0= np.atleast_2d(past_prf[0,:])\n",
    "print(x0,y0)\n",
    "cost_gp = GPy.models.GPRegression(x0,y0[:,0,None], cost_kernel, noise_var=noise_cst)\n",
    "const_gp= GPy.models.GPRegression(x0,y0[:,1,None], const_kernel, noise_var=noise_const)\n",
    "\n",
    "# safeconst_gp= GPy.models.GPRegression(x,y0[:,2,None], safeconst_kernel, noise_var=noise_safeconst)\n",
    "\n",
    "gp=[cost_gp,const_gp]\n",
    "\n",
    "\n",
    "# The optimization routine\n",
    "\n",
    "opt_ucb=safeopt.SafeOpt(gp,parameter_set=parameter_set,fmin=[-np.inf,-0], threshold=np.array([-np.inf,-np.inf]),beta=beta,num_contexts=1)\n",
    "context=np.array([0])\n",
    "x_next=np.round(opt_ucb.optimize(ucb=True,context=context),3)   \n",
    "print('next par: ',x_next)\n",
    "save_data(gp,'CSBO2',folder=optfolder,pick=True)\n"
   ]
  },
  {
   "cell_type": "code",
   "execution_count": 74,
   "id": "5de417fd",
   "metadata": {
    "hidden": true
   },
   "outputs": [
    {
     "data": {
      "text/plain": [
       "array([[ 0.5  , -0.5  ],\n",
       "       [ 0.543, -0.357]])"
      ]
     },
     "execution_count": 74,
     "metadata": {},
     "output_type": "execute_result"
    }
   ],
   "source": [
    "np.vstack([past_par,x_next])"
   ]
  },
  {
   "cell_type": "code",
   "execution_count": null,
   "id": "3b3f536b",
   "metadata": {
    "hidden": true
   },
   "outputs": [],
   "source": []
  },
  {
   "cell_type": "markdown",
   "id": "aec912a3",
   "metadata": {},
   "source": [
    "#  Optimization"
   ]
  },
  {
   "cell_type": "markdown",
   "id": "320fb4d9",
   "metadata": {},
   "source": [
    "import datetime\n",
    "now=datetime.datetime.now\n",
    "dayd=datetime.timedelta(hour=23)\n",
    "#now().strftime('%Y-%m-%d')"
   ]
  },
  {
   "cell_type": "code",
   "execution_count": 75,
   "id": "f3f07d91",
   "metadata": {
    "code_folding": [
     26
    ],
    "scrolled": true
   },
   "outputs": [],
   "source": [
    "P1=188 # buy price in euro/MWh\n",
    "P2=170\n",
    "P3=115\n",
    "S1=53 #sell price in euro/MWh\n",
    "B1=0\n",
    "\n",
    "sdate='2022-03-31 1:00'\n",
    "fdate='2022-03-31 23:59'\n",
    "\n",
    "def price_fun(k=None):\n",
    "    price=DemandSignal(day,1,1)\n",
    "    price.step_signal([0.29,0.33,0.54,0.71,0.87],[P3,P2,P1,P2,P1,P3])\n",
    "    if k is None:\n",
    "        return price.signal\n",
    "    else:\n",
    "        return price.signal[k]\n",
    "def get_power_data():\n",
    "    power_data=get_resampled(dt=60,d=1)\n",
    "    power_data['power_pv']=get_PV(dt=60,d=1)\n",
    "    power_data['power_demand']=power_data.power_pv+power_data.power_bypass_ehub\n",
    "    return power_data    \n",
    " \n",
    "def get_perf(df,par=None,p_bat_label='PT200',p_load_label='p_avg',dt=dt,T=1,sdate=sdate,fdate=fdate):\n",
    "    \n",
    "    T=int(T*day*23/24)\n",
    "    data=df[[p_bat_label,p_load_label,'SoC']].copy()\n",
    "    if par is not None :\n",
    "        data=data.loc[(df.par0==par[0]) & (df.par1==par[1])]\n",
    "    data=data.resample(f'{dt}T').mean().interpolate().dropna()\n",
    "    print(data.index[0],data.index[-1])\n",
    "    data=data.loc[sdate:fdate]\n",
    "    data.plot()\n",
    "    p_bat=data[p_bat_label].values\n",
    "    p_load=data[p_load_label].values\n",
    "    \n",
    "    def r_price_sell_fun():    \n",
    "        def price_sell_map_fun(p_bat,p_load,f_buy,f_sell,f_bat):\n",
    "            if (-p_bat<=p_load)&(p_load>=0):\n",
    "                return -p_bat*f_buy + max(0,np.sign(-p_bat))*p_bat*f_bat\n",
    "            if (-p_bat>p_load)&(p_load>=0):\n",
    "                return -f_sell*(p_bat+p_load)+f_buy*p_load + max(0,np.sign(-p_bat))*p_bat*f_bat\n",
    "            if (-p_bat<=p_load)&(p_load<0):\n",
    "                return -f_buy*(p_bat+p_load)+f_sell*p_load + max(0,np.sign(-p_bat))*p_bat*f_bat\n",
    "            if (-p_bat>p_load)&(p_load<0):\n",
    "                return -p_bat*f_sell + max(0,np.sign(-p_bat))*p_bat*f_bat\n",
    "            else: return 0\n",
    "        return np.array(list(map(price_sell_map_fun,p_bat,p_load,price_fun(),S1*np.ones(T),B1*np.ones(T))))/hour*dt*1e-3 # [euro]\n",
    "    return r_price_sell_fun().sum()\n",
    "\n",
    "def get_mmnt(last=None):\n",
    "    dir_path='/Users/adrianpaeckelripoll/rbc-parameter-tuning/experiment_codes/RBC312_exp_4/df*'\n",
    "    path_list=sorted( glob.glob(dir_path), key = os.path.getctime)\n",
    "    print(len(path_list))\n",
    "    df_list=[]\n",
    "    if last is None:\n",
    "        last=len(path_list)    \n",
    "    for pth in path_list[-last:]:\n",
    "        df_list.append(get_data(pth,npy=False))\n",
    "    df=pd.concat(df_list,axis=0) \n",
    "    df.timestamp=pd.to_datetime(df.timestamp)\n",
    "    df=df.set_index('timestamp',drop=True)\n",
    "    df.sort_index(inplace=True)\n",
    "    return df\n",
    "def get_performance(par,sdate=sdate,fdate=fdate,last=300):\n",
    "    data=get_mmnt(last=last)\n",
    "    print(data.par0[-1],data.par1[-1],data.index[0],data.index[-1])\n",
    "    data.par0=np.round(data.par0,3)\n",
    "    data.par1=np.round(data.par1,3)    \n",
    "    return get_perf(data,par)\n",
    "def get_constraint(par,norm=True):\n",
    "    dt=1\n",
    "    data=get_mmnt(last=None)\n",
    "    data.par0=np.round(data.par0,3)\n",
    "    data.par1=np.round(data.par1,3) \n",
    "    if par is not None :\n",
    "        data=data.loc[(data.par0==par[0]) & (data.par1==par[1])]\n",
    "    data=data.resample(f'{dt}T').mean().interpolate().dropna()\n",
    "#     data.plot()\n",
    "    if norm:\n",
    "        return (data.loc[pd.Timestamp(fdate)].SoC-55)/soc_std\n",
    "    else:\n",
    "        return data.loc[pd.Timestamp(fdate)].SoC\n",
    "def get_past_ctxt():\n",
    "    data=get_resampled(dt=60,d=1)\n",
    "    data.columns=['power_load']\n",
    "    data['power_load_']=np.clip(data.power_load,-p_bat_lim,p_bat_lim)\n",
    "    data['pm']=data.power_load_[data.power_load<=0]\n",
    "    data.pm=data.pm.fillna(0)\n",
    "    data.drop(columns='power_load_',inplace=True)\n",
    "\n",
    "#     data['e_dis']=data.pp.rolling(window=day//dt).sum()/hour*dt/C #kWh\n",
    "    return np.clip(data.pm.abs().sum()/hour*dt/C,0,np.diff(soc_lim)[0]/100)   \n",
    "# path_par=sorted( glob.glob('opt_recovery/past_par*'), key = os.path.getctime)\n",
    "# past_par=get_data(path_par[-1])\n",
    "# print(get_performance( past_par[-1]) )\n",
    "# print(get_constraint(past_par[-1],norm=False))"
   ]
  },
  {
   "cell_type": "code",
   "execution_count": 23,
   "id": "0415e5fe",
   "metadata": {
    "scrolled": true
   },
   "outputs": [
    {
     "name": "stdout",
     "output_type": "stream",
     "text": [
      "This is local package in rbc-parameter-tuning\n",
      "4535\n",
      "0.965 -0.377 2022-03-26 22:17:43 2022-04-01 00:39:07\n",
      "4535\n",
      "past par: [ 0.965 -0.377]\n",
      "perf: 3.2130494266473644 cons: 0.4040000000000001 context: 0.0\n",
      "2022-03-31 00:51:23 2022-04-02 00:51:23\n"
     ]
    },
    {
     "name": "stderr",
     "output_type": "stream",
     "text": [
      " /opt/anaconda3/envs/env1/lib/python3.9/site-packages/pandas/core/indexing.py:719: FutureWarning:Slicing a positional slice with .loc is not supported, and will raise TypeError in a future version.  Use .loc with labels or .iloc with positions instead.\n"
     ]
    },
    {
     "name": "stdout",
     "output_type": "stream",
     "text": [
      "Cos/sin week start on:  Monday\n",
      "context forecast: 0.05619941186912188\n",
      "next_par: [ 0.824 -0.387]\n",
      "[[ 0.5   -0.5  ]\n",
      " [ 0.543 -0.357]\n",
      " [ 0.563 -0.216]\n",
      " [ 0.824 -0.417]\n",
      " [ 0.362 -0.286]\n",
      " [ 0.241 -0.196]\n",
      " [ 0.08  -0.075]\n",
      " [ 0.683 -0.337]\n",
      " [ 0.764 -0.528]\n",
      " [ 0.764 -0.548]\n",
      " [ 0.844 -0.839]\n",
      " [ 0.     0.327]\n",
      " [ 0.784 -0.417]\n",
      " [ 0.965 -0.377]\n",
      " [ 0.824 -0.387]]\n",
      "[[-4.34        0.4       ]\n",
      " [ 2.28820531  0.4       ]\n",
      " [ 1.10378713  0.08      ]\n",
      " [ 2.99945759  0.03833333]\n",
      " [-2.53617525  0.37      ]\n",
      " [-2.83467767  0.32333333]\n",
      " [-3.28658513  0.4       ]\n",
      " [-0.24444916  0.27      ]\n",
      " [ 1.55495394  0.07      ]\n",
      " [-1.83074445  0.4       ]\n",
      " [-2.5598848   0.37      ]\n",
      " [ 6.31830983 -0.4       ]\n",
      " [ 8.79219133  0.4       ]\n",
      " [ 3.21304943  0.404     ]]\n",
      "[[0.        ]\n",
      " [0.5       ]\n",
      " [0.5       ]\n",
      " [0.5       ]\n",
      " [0.        ]\n",
      " [0.00052957]\n",
      " [0.        ]\n",
      " [0.5       ]\n",
      " [0.19885399]\n",
      " [0.5       ]\n",
      " [0.5       ]\n",
      " [0.07043243]\n",
      " [0.07043243]\n",
      " [0.        ]]\n"
     ]
    },
    {
     "data": {
      "image/png": "[encoded data removed]",
      "text/plain": [
       "<Figure size 432x288 with 1 Axes>"
      ]
     },
     "metadata": {
      "needs_background": "light"
     },
     "output_type": "display_data"
    },
    {
     "data": {
      "image/png": "[encoded data removed]",
      "text/plain": [
       "<Figure size 432x288 with 1 Axes>"
      ]
     },
     "metadata": {
      "needs_background": "light"
     },
     "output_type": "display_data"
    }
   ],
   "source": [
    "path_par=sorted( glob.glob('opt_recovery/past_par*'), key = os.path.getctime)\n",
    "path_ctxt=sorted( glob.glob('opt_recovery/past_ctxt*'), key = os.path.getctime)\n",
    "path_prf=sorted( glob.glob('opt_recovery/past_prf*'), key = os.path.getctime)\n",
    "path_CSBO=sorted( glob.glob('opt_recovery/CSBO2*'), key = os.path.getctime)\n",
    "if len(path_par)==0:\n",
    "    print('Not initilized')\n",
    "\n",
    "past_ctxt=get_data(path_ctxt[-1])\n",
    "past_par=get_data(path_par[-1])\n",
    "past_prf=get_data(path_prf[-1])\n",
    "gps=get_data(path_CSBO[-1],pick=True)\n",
    "# Bounds on the inputs variable\n",
    "bounds = [(0., 4.),(-1,1)]\n",
    "parameter_set = safeopt.linearly_spaced_combinations(bounds, 200)\n",
    "parameter_set=parameter_set[parameter_set[:,0]>=-parameter_set[:,1]]\n",
    "opt_ucb=safeopt.SafeOpt(gps,parameter_set=parameter_set,fmin=[-np.inf,-0], threshold=np.array([-np.inf,-np.inf]),beta=0.5,num_contexts=1)\n",
    "\n",
    "prf=get_performance(past_par[-1])\n",
    "cnst=get_constraint(past_par[-1])\n",
    "# cnst=0.4\n",
    "ctxt=get_past_ctxt()\n",
    "# ctxt=0.5\n",
    "past_ctxt=np.vstack([past_ctxt,[ctxt]])\n",
    "past_prf=np.vstack([past_prf,[prf,cnst]])\n",
    "print('past par:',past_par[-1])\n",
    "print('perf:',prf,'cons:',cnst,'context:',ctxt)\n",
    "opt_ucb.add_new_data_point(past_par[-1],np.atleast_2d([prf,cnst]),context=np.atleast_2d([ctxt]))\n",
    "ctxt_fc=context_fc()\n",
    "# ctxt_fc=0.3\n",
    "print('context forecast:',ctxt_fc)\n",
    "next_par=np.round(opt_ucb.optimize(ucb=True,context=ctxt_fc),3)\n",
    "print('next_par:',next_par)\n",
    "past_par=np.vstack([past_par,next_par])\n",
    "\n",
    "print(past_par)\n",
    "print(past_prf)\n",
    "print(past_ctxt)"
   ]
  },
  {
   "cell_type": "markdown",
   "id": "6b94c1ec",
   "metadata": {},
   "source": [
    "#Save data only in case parameter commited. Process: (initialize)-loop[check perf,cnst,ctxt,ctxt_fc-->save parameters for next iteration]\n",
    "save_data(opt_ucb.gps,'CSBO2',folder=optfolder,pick=True)\n",
    "save_data(past_par,'past_par',folder=optfolder)\n",
    "save_data(past_prf,'past_prf',folder=optfolder)\n",
    "save_data(past_ctxt,'past_ctxt',folder=optfolder)"
   ]
  },
  {
   "cell_type": "markdown",
   "id": "14ec6f44",
   "metadata": {},
   "source": [
    "# Evaluation"
   ]
  },
  {
   "cell_type": "code",
   "execution_count": 95,
   "id": "c72bb38b",
   "metadata": {},
   "outputs": [
    {
     "name": "stdout",
     "output_type": "stream",
     "text": [
      "This is local package in rbc-parameter-tuning\n"
     ]
    }
   ],
   "source": [
    "path_par=sorted( glob.glob('opt_recovery/past_par*'), key = os.path.getctime)\n",
    "path_ctxt=sorted( glob.glob('opt_recovery/past_ctxt*'), key = os.path.getctime)\n",
    "path_prf=sorted( glob.glob('opt_recovery/past_prf*'), key = os.path.getctime)\n",
    "path_CSBO=sorted( glob.glob('opt_recovery/CSBO2*'), key = os.path.getctime)\n",
    "if len(path_par)==0:\n",
    "    print('Not initilized')\n",
    "\n",
    "past_ctxt=get_data(path_ctxt[1])[:9]\n",
    "past_par=get_data(path_par[1])[:9]\n",
    "past_prf=get_data(path_prf[1])[:9]\n",
    "gps=get_data(path_CSBO[-1],pick=True)\n",
    "# Bounds on the inputs variable\n",
    "bounds = [(0., 4.),(-1,1)]\n",
    "parameter_set = safeopt.linearly_spaced_combinations(bounds, 200)\n",
    "parameter_set=parameter_set[parameter_set[:,0]>=-parameter_set[:,1]]\n",
    "opt_ucb=safeopt.SafeOpt(gps,parameter_set=parameter_set,fmin=[-np.inf,-0], threshold=np.array([-np.inf,-np.inf]),beta=0.5,num_contexts=1)"
   ]
  },
  {
   "cell_type": "code",
   "execution_count": 96,
   "id": "b454c24a",
   "metadata": {},
   "outputs": [
    {
     "data": {
      "text/plain": [
       "9"
      ]
     },
     "execution_count": 96,
     "metadata": {},
     "output_type": "execute_result"
    }
   ],
   "source": [
    "len(past_prf)"
   ]
  },
  {
   "cell_type": "code",
   "execution_count": 97,
   "id": "6ef2917c",
   "metadata": {},
   "outputs": [
    {
     "data": {
      "text/plain": [
       "9"
      ]
     },
     "execution_count": 97,
     "metadata": {},
     "output_type": "execute_result"
    }
   ],
   "source": [
    "len(past_par)"
   ]
  },
  {
   "cell_type": "code",
   "execution_count": 112,
   "id": "2a829348",
   "metadata": {},
   "outputs": [
    {
     "data": {
      "text/plain": [
       "array([[-2.8908469 ],\n",
       "       [-3.87944606],\n",
       "       [-2.56351756],\n",
       "       [-4.93699681],\n",
       "       [-0.79520641],\n",
       "       [-0.7930985 ],\n",
       "       [-0.79520641],\n",
       "       [-2.83940473],\n",
       "       [-2.23239985],\n",
       "       [-5.37011766],\n",
       "       [-2.18930819],\n",
       "       [-5.61353302]])"
      ]
     },
     "execution_count": 112,
     "metadata": {},
     "output_type": "execute_result"
    }
   ],
   "source": [
    "opt_cst[:]"
   ]
  },
  {
   "cell_type": "code",
   "execution_count": 115,
   "id": "59cac7e9",
   "metadata": {},
   "outputs": [
    {
     "data": {
      "text/plain": [
       "9"
      ]
     },
     "execution_count": 115,
     "metadata": {},
     "output_type": "execute_result"
    }
   ],
   "source": [
    "opt_par=get_data('../optimization_sim/NL_opt/exp_opt_par_3_1_2_2022_04_06_2205.npy')[:9]\n",
    "opt_cst=get_data('../optimization_sim/NL_opt/exp_opt_cst_3_1_2_2022_04_06_2205.npy')[:9]\n",
    "len(opt_par)"
   ]
  },
  {
   "cell_type": "code",
   "execution_count": 164,
   "id": "c6e201e7",
   "metadata": {},
   "outputs": [
    {
     "data": {
      "image/png": "[encoded data removed]",
      "text/plain": [
       "<Figure size 432x360 with 2 Axes>"
      ]
     },
     "metadata": {
      "needs_background": "light"
     },
     "output_type": "display_data"
    }
   ],
   "source": [
    "height2=5\n",
    "# past_par=past_par[:-1]\n",
    "with plt.style.context('science'):\n",
    "    plt.rcParams.update({'font.size': 16})                        \n",
    "    err=25e-2\n",
    "    iterations=len(past_par)\n",
    "    fig,ax=plt.subplots(2,sharex=True,figsize=(6,height2))\n",
    "\n",
    "    ax[0].plot(range(iterations),past_par[:,0],':^',label='CSBO',linewidth=1.2)\n",
    "    ax[0].plot(np.arange(len(opt_par)),opt_par[:,0],'-o',label='optimal',linewidth=1.2,color='grey')    \n",
    "    ax[1].plot(range(iterations),past_par[:,1],':^',label='CSBO',linewidth=1.2)\n",
    "    ax[1].plot(np.arange(len(opt_par)),opt_par[:,1],'-o',label='optimal',linewidth=1.2,color='grey')      \n",
    "    ax[0].set_xticks(np.arange(0,iterations,2))\n",
    "    ax[0].set_ylim([-0.1,2.6])\n",
    "    ax[1].set_ylim([-1,2])\n",
    "    ax[0].set_ylabel(r'$\\psi_0$[-]')\n",
    "    ax[0].legend()    \n",
    "    ax[1].set_ylabel(r'$\\psi_1$[-]')\n",
    "    ax[1].legend()\n",
    "    ax[0].set_xticks(np.arange(0,iterations,1))    \n",
    "\n",
    "    plt.xlabel('time [d]')\n",
    "    plt.xlim([-0,iterations])\n",
    "    plt.subplots_adjust(hspace=0.05)\n",
    "plt.savefig(f'../fig_scripts/experiment/par_exploration.pdf')\n",
    "plt.show()\n",
    "    "
   ]
  },
  {
   "cell_type": "code",
   "execution_count": 201,
   "id": "0d696947",
   "metadata": {},
   "outputs": [
    {
     "data": {
      "image/png": "[encoded data removed]",
      "text/plain": [
       "<Figure size 432x360 with 2 Axes>"
      ]
     },
     "metadata": {
      "needs_background": "light"
     },
     "output_type": "display_data"
    }
   ],
   "source": [
    "with plt.style.context('science'):\n",
    "    plt.rcParams.update({'font.size': 16})\n",
    "    err=25e-2\n",
    "    fig,ax=plt.subplots(2,sharex=True,figsize=(6,height2))\n",
    "    \n",
    "    ax[0].plot(range(iterations),past_prf[:,0],':^',label='CSBO',linewidth=1.2)\n",
    "    ax[0].plot(np.arange(len(opt_par)),-opt_cst[:],'-o',label='optimal',linewidth=1.2,color='grey')          \n",
    "    ax[1].plot(range(iterations),past_prf[:,1]*55,':^',label='$q_f$ violation',linewidth=1.2)\n",
    "    ax[1].hlines(0,0,iterations,'k',linestyles='--')\n",
    "    ax[1].fill_between(range(10),y1=0,y2=-20,color='red',alpha=0.1)\n",
    "#     ax[1].plot(range(iterations),rnd_opt_cst[:iterations,1],':h',label='Optimal',linewidth=1.2,color='grey')\n",
    "    ax[0].set_xticks(np.arange(0,iterations,1))\n",
    "    ax[0].set_ylim([-5,9.5])\n",
    "    ax[1].set_ylim([-5,30])\n",
    "    ax[0].set_ylabel(r'performance [CHF]')\n",
    "    ax[0].legend(ncol=2)    \n",
    "    ax[1].set_ylabel(r'final constraint [\\%]')\n",
    "    ax[1].legend(loc='upper right')\n",
    "\n",
    "    plt.xlabel('time [d]')\n",
    "    plt.xlim([-0,8.5])\n",
    "    plt.subplots_adjust(hspace=0.02)\n",
    "    plt.tight_layout()\n",
    "plt.savefig(f'../fig_scripts/experiment/exp_evaluation.pdf')\n",
    "plt.show()"
   ]
  },
  {
   "cell_type": "code",
   "execution_count": 158,
   "id": "f5d1a27a",
   "metadata": {},
   "outputs": [
    {
     "name": "stdout",
     "output_type": "stream",
     "text": [
      "[3.4225000000000003 list([0.355, 0.17]) 0.07896100000000002\n",
      " list([0.412, 0.231]) 0.042435999999999995 list([0.181, 0.167]) 2 0.3\n",
      " 0.824 0.67]\n",
      "[[ 0.5 -0.5  0. ]] [[-4.34  0.4 ]]\n",
      "This is local package in rbc-parameter-tuning\n"
     ]
    }
   ],
   "source": [
    "import safeopt\n",
    "import GPy\n",
    "# Experimental parameters\n",
    "\n",
    "hp=get_data('../optimization_sim/sim_data_312_winter_rp0_qf_55/hyperpar_loglike2_b2__2022_03_08_0102.npy')\n",
    "Vz=hp[0]\n",
    "Lz=hp[1]\n",
    "Vq=hp[2]\n",
    "Lq=hp[3]\n",
    "Vqs=hp[4]\n",
    "Lqs=hp[5]\n",
    "beta=hp[6]\n",
    "Lctxt_z=hp[7]\n",
    "Lctxt_q=hp[8]\n",
    "Lctxt_qs=hp[9]\n",
    "print(hp)\n",
    "noise_cst = 2e-1#cst_mmnt_noise.mean()/10\n",
    "noise_const =5e-4\n",
    "\n",
    "# Bounds on the inputs variable\n",
    "bounds = [(0., 4.),(-1,1)]\n",
    "parameter_set = safeopt.linearly_spaced_combinations(bounds, 200)\n",
    "parameter_set=parameter_set[parameter_set[:,0]>=-parameter_set[:,1]]\n",
    "# Define Kernel\n",
    "# for x_ in np.random.uniform(-0.5,-0.05,10):\n",
    "\n",
    "cost_kernel_ = GPy.kern.RBF(input_dim=len(bounds), variance=Vz, lengthscale=[Lz[0],Lz[1]], ARD=True,active_dims=[0,1])\n",
    "cost_context_kernel=GPy.kern.RBF(input_dim=1, variance=1, lengthscale=Lctxt_z, ARD=True,active_dims=[2],name='context')\n",
    "cost_kernel=cost_kernel_*cost_context_kernel\n",
    "\n",
    "const_kernel_=GPy.kern.RBF(input_dim=len(bounds), variance=Vq, lengthscale=[Lq[0],Lq[1]], ARD=True,active_dims=[0,1])\n",
    "const_context_kernel=GPy.kern.RBF(input_dim=1, variance=1, lengthscale=Lctxt_q, ARD=True,active_dims=[2],name='context')\n",
    "const_kernel=const_kernel_*const_context_kernel\n",
    "\n",
    "# safeconst_kernel_=GPy.kern.RBF(input_dim=len(bounds), variance=Vqs, lengthscale=[Lqs[0],Lqs[1]], ARD=True,active_dims=[0,1])\n",
    "# safeconst_context_kernel=GPy.kern.RBF(input_dim=1, variance=1, lengthscale=Lctxt_qs, ARD=True,active_dims=[2],name='context')\n",
    "# safeconst_kernel=safeconst_kernel_*safeconst_context_kernel\n",
    "\n",
    "context=np.array([[0]])\n",
    "x0=np.hstack([past_par[0,:],past_ctxt[0]])\n",
    "x0=x0[None]\n",
    "y0= np.atleast_2d(past_prf[0,:])\n",
    "print(x0,y0)\n",
    "cost_gp = GPy.models.GPRegression(x0,y0[:,0,None], cost_kernel, noise_var=noise_cst)\n",
    "const_gp= GPy.models.GPRegression(x0,y0[:,1,None], const_kernel, noise_var=noise_const)\n",
    "\n",
    "# safeconst_gp= GPy.models.GPRegression(x,y0[:,2,None], safeconst_kernel, noise_var=noise_safeconst)\n",
    "\n",
    "gp=[cost_gp,const_gp]\n",
    "\n",
    "\n",
    "# The optimization routine\n",
    "\n",
    "opt_ucb=safeopt.SafeOpt(gp,parameter_set=parameter_set,fmin=[-np.inf,-0], threshold=np.array([-np.inf,-np.inf]),beta=beta,num_contexts=1)"
   ]
  },
  {
   "cell_type": "code",
   "execution_count": 159,
   "id": "d02a00e0",
   "metadata": {},
   "outputs": [
    {
     "name": "stdout",
     "output_type": "stream",
     "text": [
      "[ 0.5 -0.5] [-4.34  0.4 ] [0.]\n",
      "[ 0.543 -0.357] [2.28820531 0.4       ] [0.5]\n",
      "[ 0.563 -0.216] [1.10378713 0.08      ] [0.5]\n",
      "[ 0.824 -0.417] [2.99945759 0.03833333] [0.5]\n",
      "[ 0.362 -0.286] [-2.53617525  0.37      ] [0.]\n",
      "[ 0.241 -0.196] [-2.83467767  0.32333333] [0.00052957]\n",
      "[ 0.08  -0.075] [-3.28658513  0.4       ] [0.]\n",
      "[ 0.683 -0.337] [-0.24444916  0.27      ] [0.5]\n",
      "[ 0.764 -0.528] [1.55495394 0.07      ] [0.19885399]\n",
      "[ 0.764 -0.548] [-1.83074445  0.4       ] [0.5]\n",
      "[ 0.844 -0.839] [-2.5598848  0.37     ] [0.5]\n",
      "[0.    0.327] [ 6.31830983 -0.4       ] [0.07043243]\n",
      "[ 0.784 -0.417] [8.79219133 0.4       ] [0.07043243]\n",
      "[ 0.965 -0.377] [3.21304943 0.404     ] [0.]\n"
     ]
    }
   ],
   "source": [
    "l=[]\n",
    "u=[]\n",
    "\n",
    "for d,prf in enumerate(past_prf):\n",
    "    print(past_par[d],prf,past_ctxt[d])\n",
    "    l.append(opt_ucb.get_maximum(context=past_ctxt[d],beta_estimate=0.5)[1])\n",
    "    u.append(opt_ucb.get_maximum(context=past_ctxt[d],beta_estimate=0.5)[2])       \n",
    "    opt_ucb.add_new_data_point(past_par[d],np.atleast_2d(prf),context=np.atleast_2d([past_ctxt[d]]))\n",
    " "
   ]
  },
  {
   "cell_type": "code",
   "execution_count": 151,
   "id": "9b3ea557",
   "metadata": {},
   "outputs": [
    {
     "data": {
      "text/plain": [
       "(array([ 0.8040201 , -0.39698492]), 5.504940906472793, 7.015070953815567)"
      ]
     },
     "execution_count": 151,
     "metadata": {},
     "output_type": "execute_result"
    }
   ],
   "source": [
    "opt_ucb.get_maximum(context=0,)"
   ]
  },
  {
   "cell_type": "code",
   "execution_count": 166,
   "id": "f233549d",
   "metadata": {},
   "outputs": [
    {
     "name": "stdout",
     "output_type": "stream",
     "text": [
      "4742\n"
     ]
    }
   ],
   "source": [
    "data=get_mmnt()\n",
    "data=data[~data.index.duplicated()]\n",
    "data=data.resample(f'T').mean()\n",
    "data.par0=np.round(data.par0,3)\n",
    "data.par1=np.round(data.par1,3)"
   ]
  },
  {
   "cell_type": "code",
   "execution_count": 169,
   "id": "f469e114",
   "metadata": {},
   "outputs": [
    {
     "data": {
      "text/plain": [
       "Index(['AlrmSt', 'RsrchMdSt', 'Pbat', 'SoC', 'Psp', 'PT200', 'SoCmin',\n",
       "       'SoCmax', 'p_bypass', 'p_bat', 'p_l_s_avg', 'p_avg', 'price',\n",
       "       'exp_time', 'par0', 'par1'],\n",
       "      dtype='object')"
      ]
     },
     "execution_count": 169,
     "metadata": {},
     "output_type": "execute_result"
    }
   ],
   "source": [
    "data.columns"
   ]
  },
  {
   "cell_type": "code",
   "execution_count": 170,
   "id": "f50a945a",
   "metadata": {},
   "outputs": [
    {
     "name": "stdout",
     "output_type": "stream",
     "text": [
      "Using matplotlib backend: MacOSX\n"
     ]
    },
    {
     "data": {
      "text/plain": [
       "<AxesSubplot:xlabel='timestamp'>"
      ]
     },
     "execution_count": 170,
     "metadata": {},
     "output_type": "execute_result"
    }
   ],
   "source": [
    "%matplotlib\n",
    "data[['PT200','p_avg','SoC']]"
   ]
  },
  {
   "cell_type": "code",
   "execution_count": 176,
   "id": "ffddf82b",
   "metadata": {},
   "outputs": [],
   "source": [
    "df=data[pd.Timestamp('2022-03-14 1:00'):pd.Timestamp('2022-03-14 23:59')].bfill()"
   ]
  },
  {
   "cell_type": "code",
   "execution_count": 194,
   "id": "a045ef65",
   "metadata": {},
   "outputs": [
    {
     "data": {
      "text/plain": [
       "RcParams({'_internal.classic_mode': False,\n",
       "          'agg.path.chunksize': 0,\n",
       "          'animation.avconv_args': [],\n",
       "          'animation.avconv_path': 'avconv',\n",
       "          'animation.bitrate': -1,\n",
       "          'animation.codec': 'h264',\n",
       "          'animation.convert_args': [],\n",
       "          'animation.convert_path': 'convert',\n",
       "          'animation.embed_limit': 20.0,\n",
       "          'animation.ffmpeg_args': [],\n",
       "          'animation.ffmpeg_path': 'ffmpeg',\n",
       "          'animation.frame_format': 'png',\n",
       "          'animation.html': 'none',\n",
       "          'animation.html_args': [],\n",
       "          'animation.writer': 'ffmpeg',\n",
       "          'axes.autolimit_mode': 'data',\n",
       "          'axes.axisbelow': 'line',\n",
       "          'axes.edgecolor': 'black',\n",
       "          'axes.facecolor': 'white',\n",
       "          'axes.formatter.limits': [-5, 6],\n",
       "          'axes.formatter.min_exponent': 0,\n",
       "          'axes.formatter.offset_threshold': 4,\n",
       "          'axes.formatter.use_locale': False,\n",
       "          'axes.formatter.use_mathtext': False,\n",
       "          'axes.formatter.useoffset': True,\n",
       "          'axes.grid': False,\n",
       "          'axes.grid.axis': 'both',\n",
       "          'axes.grid.which': 'major',\n",
       "          'axes.labelcolor': 'black',\n",
       "          'axes.labelpad': 4.0,\n",
       "          'axes.labelsize': 'medium',\n",
       "          'axes.labelweight': 'normal',\n",
       "          'axes.linewidth': 0.8,\n",
       "          'axes.prop_cycle': cycler('color', ['#1f77b4', '#ff7f0e', '#2ca02c', '#d62728', '#9467bd', '#8c564b', '#e377c2', '#7f7f7f', '#bcbd22', '#17becf']),\n",
       "          'axes.spines.bottom': True,\n",
       "          'axes.spines.left': True,\n",
       "          'axes.spines.right': True,\n",
       "          'axes.spines.top': True,\n",
       "          'axes.titlecolor': 'auto',\n",
       "          'axes.titlelocation': 'center',\n",
       "          'axes.titlepad': 6.0,\n",
       "          'axes.titlesize': 'large',\n",
       "          'axes.titleweight': 'normal',\n",
       "          'axes.titley': None,\n",
       "          'axes.unicode_minus': True,\n",
       "          'axes.xmargin': 0.05,\n",
       "          'axes.ymargin': 0.05,\n",
       "          'axes.zmargin': 0.05,\n",
       "          'axes3d.grid': True,\n",
       "          'backend': 'module://matplotlib_inline.backend_inline',\n",
       "          'backend_fallback': True,\n",
       "          'boxplot.bootstrap': None,\n",
       "          'boxplot.boxprops.color': 'black',\n",
       "          'boxplot.boxprops.linestyle': '-',\n",
       "          'boxplot.boxprops.linewidth': 1.0,\n",
       "          'boxplot.capprops.color': 'black',\n",
       "          'boxplot.capprops.linestyle': '-',\n",
       "          'boxplot.capprops.linewidth': 1.0,\n",
       "          'boxplot.flierprops.color': 'black',\n",
       "          'boxplot.flierprops.linestyle': 'none',\n",
       "          'boxplot.flierprops.linewidth': 1.0,\n",
       "          'boxplot.flierprops.marker': 'o',\n",
       "          'boxplot.flierprops.markeredgecolor': 'black',\n",
       "          'boxplot.flierprops.markeredgewidth': 1.0,\n",
       "          'boxplot.flierprops.markerfacecolor': 'none',\n",
       "          'boxplot.flierprops.markersize': 6.0,\n",
       "          'boxplot.meanline': False,\n",
       "          'boxplot.meanprops.color': 'C2',\n",
       "          'boxplot.meanprops.linestyle': '--',\n",
       "          'boxplot.meanprops.linewidth': 1.0,\n",
       "          'boxplot.meanprops.marker': '^',\n",
       "          'boxplot.meanprops.markeredgecolor': 'C2',\n",
       "          'boxplot.meanprops.markerfacecolor': 'C2',\n",
       "          'boxplot.meanprops.markersize': 6.0,\n",
       "          'boxplot.medianprops.color': 'C1',\n",
       "          'boxplot.medianprops.linestyle': '-',\n",
       "          'boxplot.medianprops.linewidth': 1.0,\n",
       "          'boxplot.notch': False,\n",
       "          'boxplot.patchartist': False,\n",
       "          'boxplot.showbox': True,\n",
       "          'boxplot.showcaps': True,\n",
       "          'boxplot.showfliers': True,\n",
       "          'boxplot.showmeans': False,\n",
       "          'boxplot.vertical': True,\n",
       "          'boxplot.whiskerprops.color': 'black',\n",
       "          'boxplot.whiskerprops.linestyle': '-',\n",
       "          'boxplot.whiskerprops.linewidth': 1.0,\n",
       "          'boxplot.whiskers': 1.5,\n",
       "          'contour.corner_mask': True,\n",
       "          'contour.linewidth': None,\n",
       "          'contour.negative_linestyle': 'dashed',\n",
       "          'date.autoformatter.day': '%Y-%m-%d',\n",
       "          'date.autoformatter.hour': '%m-%d %H',\n",
       "          'date.autoformatter.microsecond': '%M:%S.%f',\n",
       "          'date.autoformatter.minute': '%d %H:%M',\n",
       "          'date.autoformatter.month': '%Y-%m',\n",
       "          'date.autoformatter.second': '%H:%M:%S',\n",
       "          'date.autoformatter.year': '%Y',\n",
       "          'date.converter': None,\n",
       "          'date.epoch': '1970-01-01T00:00:00',\n",
       "          'date.interval_multiples': None,\n",
       "          'docstring.hardcopy': False,\n",
       "          'errorbar.capsize': 0.0,\n",
       "          'figure.autolayout': False,\n",
       "          'figure.constrained_layout.h_pad': 0.04167,\n",
       "          'figure.constrained_layout.hspace': 0.02,\n",
       "          'figure.constrained_layout.use': False,\n",
       "          'figure.constrained_layout.w_pad': 0.04167,\n",
       "          'figure.constrained_layout.wspace': 0.02,\n",
       "          'figure.dpi': 72.0,\n",
       "          'figure.edgecolor': (1, 1, 1, 0),\n",
       "          'figure.facecolor': (1, 1, 1, 0),\n",
       "          'figure.figsize': [6.0, 4.0],\n",
       "          'figure.frameon': True,\n",
       "          'figure.max_open_warning': 20,\n",
       "          'figure.raise_window': True,\n",
       "          'figure.subplot.bottom': 0.125,\n",
       "          'figure.subplot.hspace': 0.2,\n",
       "          'figure.subplot.left': 0.125,\n",
       "          'figure.subplot.right': 0.9,\n",
       "          'figure.subplot.top': 0.88,\n",
       "          'figure.subplot.wspace': 0.2,\n",
       "          'figure.titlesize': 'large',\n",
       "          'figure.titleweight': 'normal',\n",
       "          'font.cursive': ['Apple Chancery',\n",
       "                           'Textile',\n",
       "                           'Zapf Chancery',\n",
       "                           'Sand',\n",
       "                           'Script MT',\n",
       "                           'Felipa',\n",
       "                           'Comic Neue',\n",
       "                           'Comic Sans MS',\n",
       "                           'cursive'],\n",
       "          'font.family': ['sans-serif'],\n",
       "          'font.fantasy': ['Chicago',\n",
       "                           'Charcoal',\n",
       "                           'Impact',\n",
       "                           'Western',\n",
       "                           'Humor Sans',\n",
       "                           'xkcd',\n",
       "                           'fantasy'],\n",
       "          'font.monospace': ['DejaVu Sans Mono',\n",
       "                             'Bitstream Vera Sans Mono',\n",
       "                             'Computer Modern Typewriter',\n",
       "                             'Andale Mono',\n",
       "                             'Nimbus Mono L',\n",
       "                             'Courier New',\n",
       "                             'Courier',\n",
       "                             'Fixed',\n",
       "                             'Terminal',\n",
       "                             'monospace'],\n",
       "          'font.sans-serif': ['DejaVu Sans',\n",
       "                              'Bitstream Vera Sans',\n",
       "                              'Computer Modern Sans Serif',\n",
       "                              'Lucida Grande',\n",
       "                              'Verdana',\n",
       "                              'Geneva',\n",
       "                              'Lucid',\n",
       "                              'Arial',\n",
       "                              'Helvetica',\n",
       "                              'Avant Garde',\n",
       "                              'sans-serif'],\n",
       "          'font.serif': ['DejaVu Serif',\n",
       "                         'Bitstream Vera Serif',\n",
       "                         'Computer Modern Roman',\n",
       "                         'New Century Schoolbook',\n",
       "                         'Century Schoolbook L',\n",
       "                         'Utopia',\n",
       "                         'ITC Bookman',\n",
       "                         'Bookman',\n",
       "                         'Nimbus Roman No9 L',\n",
       "                         'Times New Roman',\n",
       "                         'Times',\n",
       "                         'Palatino',\n",
       "                         'Charter',\n",
       "                         'serif'],\n",
       "          'font.size': 10.0,\n",
       "          'font.stretch': 'normal',\n",
       "          'font.style': 'normal',\n",
       "          'font.variant': 'normal',\n",
       "          'font.weight': 'normal',\n",
       "          'grid.alpha': 1.0,\n",
       "          'grid.color': '#b0b0b0',\n",
       "          'grid.linestyle': '-',\n",
       "          'grid.linewidth': 0.8,\n",
       "          'hatch.color': 'black',\n",
       "          'hatch.linewidth': 1.0,\n",
       "          'hist.bins': 10,\n",
       "          'image.aspect': 'equal',\n",
       "          'image.cmap': 'viridis',\n",
       "          'image.composite_image': True,\n",
       "          'image.interpolation': 'antialiased',\n",
       "          'image.lut': 256,\n",
       "          'image.origin': 'upper',\n",
       "          'image.resample': True,\n",
       "          'interactive': True,\n",
       "          'keymap.all_axes': ['a'],\n",
       "          'keymap.back': ['left', 'c', 'backspace', 'MouseButton.BACK'],\n",
       "          'keymap.copy': ['ctrl+c', 'cmd+c'],\n",
       "          'keymap.forward': ['right', 'v', 'MouseButton.FORWARD'],\n",
       "          'keymap.fullscreen': ['f', 'ctrl+f'],\n",
       "          'keymap.grid': ['g'],\n",
       "          'keymap.grid_minor': ['G'],\n",
       "          'keymap.help': ['f1'],\n",
       "          'keymap.home': ['h', 'r', 'home'],\n",
       "          'keymap.pan': ['p'],\n",
       "          'keymap.quit': ['ctrl+w', 'cmd+w', 'q'],\n",
       "          'keymap.quit_all': [],\n",
       "          'keymap.save': ['s', 'ctrl+s'],\n",
       "          'keymap.xscale': ['k', 'L'],\n",
       "          'keymap.yscale': ['l'],\n",
       "          'keymap.zoom': ['o'],\n",
       "          'legend.borderaxespad': 0.5,\n",
       "          'legend.borderpad': 0.4,\n",
       "          'legend.columnspacing': 2.0,\n",
       "          'legend.edgecolor': '0.8',\n",
       "          'legend.facecolor': 'inherit',\n",
       "          'legend.fancybox': True,\n",
       "          'legend.fontsize': 'medium',\n",
       "          'legend.framealpha': 0.8,\n",
       "          'legend.frameon': True,\n",
       "          'legend.handleheight': 0.7,\n",
       "          'legend.handlelength': 2.0,\n",
       "          'legend.handletextpad': 0.8,\n",
       "          'legend.labelspacing': 0.5,\n",
       "          'legend.loc': 'best',\n",
       "          'legend.markerscale': 1.0,\n",
       "          'legend.numpoints': 1,\n",
       "          'legend.scatterpoints': 1,\n",
       "          'legend.shadow': False,\n",
       "          'legend.title_fontsize': None,\n",
       "          'lines.antialiased': True,\n",
       "          'lines.color': 'C0',\n",
       "          'lines.dash_capstyle': <CapStyle.butt: 'butt'>,\n",
       "          'lines.dash_joinstyle': <JoinStyle.round: 'round'>,\n",
       "          'lines.dashdot_pattern': [6.4, 1.6, 1.0, 1.6],\n",
       "          'lines.dashed_pattern': [3.7, 1.6],\n",
       "          'lines.dotted_pattern': [1.0, 1.65],\n",
       "          'lines.linestyle': '-',\n",
       "          'lines.linewidth': 1.5,\n",
       "          'lines.marker': 'None',\n",
       "          'lines.markeredgecolor': 'auto',\n",
       "          'lines.markeredgewidth': 1.0,\n",
       "          'lines.markerfacecolor': 'auto',\n",
       "          'lines.markersize': 6.0,\n",
       "          'lines.scale_dashes': True,\n",
       "          'lines.solid_capstyle': <CapStyle.projecting: 'projecting'>,\n",
       "          'lines.solid_joinstyle': <JoinStyle.round: 'round'>,\n",
       "          'markers.fillstyle': 'full',\n",
       "          'mathtext.bf': 'sans:bold',\n",
       "          'mathtext.cal': 'cursive',\n",
       "          'mathtext.default': 'it',\n",
       "          'mathtext.fallback': 'cm',\n",
       "          'mathtext.fallback_to_cm': None,\n",
       "          'mathtext.fontset': 'dejavusans',\n",
       "          'mathtext.it': 'sans:italic',\n",
       "          'mathtext.rm': 'sans',\n",
       "          'mathtext.sf': 'sans',\n",
       "          'mathtext.tt': 'monospace',\n",
       "          'patch.antialiased': True,\n",
       "          'patch.edgecolor': 'black',\n",
       "          'patch.facecolor': 'C0',\n",
       "          'patch.force_edgecolor': False,\n",
       "          'patch.linewidth': 1.0,\n",
       "          'path.effects': [],\n",
       "          'path.simplify': True,\n",
       "          'path.simplify_threshold': 0.111111111111,\n",
       "          'path.sketch': None,\n",
       "          'path.snap': True,\n",
       "          'pcolor.shading': 'flat',\n",
       "          'pcolormesh.snap': True,\n",
       "          'pdf.compression': 6,\n",
       "          'pdf.fonttype': 3,\n",
       "          'pdf.inheritcolor': False,\n",
       "          'pdf.use14corefonts': False,\n",
       "          'pgf.preamble': '',\n",
       "          'pgf.rcfonts': True,\n",
       "          'pgf.texsystem': 'xelatex',\n",
       "          'polaraxes.grid': True,\n",
       "          'ps.distiller.res': 6000,\n",
       "          'ps.fonttype': 3,\n",
       "          'ps.papersize': 'letter',\n",
       "          'ps.useafm': False,\n",
       "          'ps.usedistiller': None,\n",
       "          'savefig.bbox': None,\n",
       "          'savefig.directory': '~',\n",
       "          'savefig.dpi': 'figure',\n",
       "          'savefig.edgecolor': 'auto',\n",
       "          'savefig.facecolor': 'auto',\n",
       "          'savefig.format': 'png',\n",
       "          'savefig.jpeg_quality': 95,\n",
       "          'savefig.orientation': 'portrait',\n",
       "          'savefig.pad_inches': 0.1,\n",
       "          'savefig.transparent': False,\n",
       "          'scatter.edgecolors': 'face',\n",
       "          'scatter.marker': 'o',\n",
       "          'svg.fonttype': 'path',\n",
       "          'svg.hashsalt': None,\n",
       "          'svg.image_inline': True,\n",
       "          'text.antialiased': True,\n",
       "          'text.color': 'black',\n",
       "          'text.hinting': 'force_autohint',\n",
       "          'text.hinting_factor': 8,\n",
       "          'text.kerning_factor': 0,\n",
       "          'text.latex.preamble': '',\n",
       "          'text.latex.preview': False,\n",
       "          'text.usetex': False,\n",
       "          'timezone': 'UTC',\n",
       "          'tk.window_focus': False,\n",
       "          'toolbar': 'toolbar2',\n",
       "          'webagg.address': '127.0.0.1',\n",
       "          'webagg.open_in_browser': True,\n",
       "          'webagg.port': 8988,\n",
       "          'webagg.port_retries': 50,\n",
       "          'xaxis.labellocation': 'center',\n",
       "          'xtick.alignment': 'center',\n",
       "          'xtick.bottom': True,\n",
       "          'xtick.color': 'black',\n",
       "          'xtick.direction': 'out',\n",
       "          'xtick.labelbottom': True,\n",
       "          'xtick.labelcolor': 'inherit',\n",
       "          'xtick.labelsize': 'medium',\n",
       "          'xtick.labeltop': False,\n",
       "          'xtick.major.bottom': True,\n",
       "          'xtick.major.pad': 3.5,\n",
       "          'xtick.major.size': 3.5,\n",
       "          'xtick.major.top': True,\n",
       "          'xtick.major.width': 0.8,\n",
       "          'xtick.minor.bottom': True,\n",
       "          'xtick.minor.pad': 3.4,\n",
       "          'xtick.minor.size': 2.0,\n",
       "          'xtick.minor.top': True,\n",
       "          'xtick.minor.visible': False,\n",
       "          'xtick.minor.width': 0.6,\n",
       "          'xtick.top': False,\n",
       "          'yaxis.labellocation': 'center',\n",
       "          'ytick.alignment': 'center_baseline',\n",
       "          'ytick.color': 'black',\n",
       "          'ytick.direction': 'out',\n",
       "          'ytick.labelcolor': 'inherit',\n",
       "          'ytick.labelleft': True,\n",
       "          'ytick.labelright': False,\n",
       "          'ytick.labelsize': 'medium',\n",
       "          'ytick.left': True,\n",
       "          'ytick.major.left': True,\n",
       "          'ytick.major.pad': 3.5,\n",
       "          'ytick.major.right': True,\n",
       "          'ytick.major.size': 3.5,\n",
       "          'ytick.major.width': 0.8,\n",
       "          'ytick.minor.left': True,\n",
       "          'ytick.minor.pad': 3.4,\n",
       "          'ytick.minor.right': True,\n",
       "          'ytick.minor.size': 2.0,\n",
       "          'ytick.minor.visible': False,\n",
       "          'ytick.minor.width': 0.6,\n",
       "          'ytick.right': False})"
      ]
     },
     "execution_count": 194,
     "metadata": {},
     "output_type": "execute_result"
    }
   ],
   "source": [
    "plt.rcParams\n"
   ]
  },
  {
   "cell_type": "code",
   "execution_count": 203,
   "id": "068a1a51",
   "metadata": {},
   "outputs": [
    {
     "data": {
      "image/png": "[encoded data removed]",
      "text/plain": [
       "<Figure size 1152x576 with 2 Axes>"
      ]
     },
     "metadata": {
      "needs_background": "light"
     },
     "output_type": "display_data"
    }
   ],
   "source": [
    "%matplotlib inline\n",
    "with plt.style.context('science'):\n",
    "    plt.rcParams.update({'font.size': 16}) \n",
    "    plt.rcParams.update({'axes.labelsize': 16}) \n",
    "    plt.rcParams.update({'lines.linewidth': 2}) \n",
    "    plt.rcParams.update({'axes.grid': True})     \n",
    "    colors=plt.rcParams['axes.prop_cycle'].by_key()['color']    \n",
    "    fig,ax=plt.subplots(2,figsize=(16,8),sharex=True)\n",
    "    time=np.arange(len(df))/60\n",
    "    ax[0].plot(time,df.PT200,label='$\\overline{p}_{b}$ battery')\n",
    "    ax[0].plot(time,df.p_avg,label='$\\overline{p}_{l}$ load')   \n",
    "    ax[1].plot(time,df.SoC,label='$\\overline{s}$ SoC',color='red')   \n",
    "    ax[1].set_xticks(np.arange(0,24,2))\n",
    "    ax[1].set_xlabel('time [h]')\n",
    "    ax[0].set_ylabel('power [kW]')\n",
    "    ax[1].set_ylabel('SoC [\\%]')\n",
    "    ax[0].locator_params(nbins=5)\n",
    "    ax[1].locator_params(nbins=5)\n",
    "    ax[0].legend(ncol=1)\n",
    "    ax[1].legend()    \n",
    "    plt.subplots_adjust(hspace=0.05)\n",
    "plt.savefig(f'../fig_scripts/experiment/exp_3th iteration.pdf')    \n",
    "    \n",
    "    "
   ]
  },
  {
   "cell_type": "code",
   "execution_count": 165,
   "id": "691764a8",
   "metadata": {},
   "outputs": [
    {
     "ename": "AttributeError",
     "evalue": "'DataFrame' object has no attribute 'par0'",
     "output_type": "error",
     "traceback": [
      "\u001b[0;31m---------------------------------------------------------------------------\u001b[0m",
      "\u001b[0;31mAttributeError\u001b[0m                            Traceback (most recent call last)",
      "\u001b[0;32m/var/folders/w3/j7m_f8sj3j326rztbz0fqhlm0000gn/T/ipykernel_63042/2344762014.py\u001b[0m in \u001b[0;36m<module>\u001b[0;34m\u001b[0m\n\u001b[1;32m      2\u001b[0m \u001b[0mdfl\u001b[0m\u001b[0;34m=\u001b[0m\u001b[0;34m[\u001b[0m\u001b[0;34m]\u001b[0m\u001b[0;34m\u001b[0m\u001b[0;34m\u001b[0m\u001b[0m\n\u001b[1;32m      3\u001b[0m \u001b[0;32mfor\u001b[0m \u001b[0mi\u001b[0m\u001b[0;34m,\u001b[0m\u001b[0mpar\u001b[0m \u001b[0;32min\u001b[0m \u001b[0menumerate\u001b[0m\u001b[0;34m(\u001b[0m\u001b[0mpast_par\u001b[0m\u001b[0;34m[\u001b[0m\u001b[0;36m1\u001b[0m\u001b[0;34m:\u001b[0m\u001b[0;34m]\u001b[0m\u001b[0;34m)\u001b[0m\u001b[0;34m:\u001b[0m\u001b[0;34m\u001b[0m\u001b[0;34m\u001b[0m\u001b[0m\n\u001b[0;32m----> 4\u001b[0;31m     \u001b[0mdf\u001b[0m\u001b[0;34m=\u001b[0m\u001b[0mdata\u001b[0m\u001b[0;34m[\u001b[0m\u001b[0;34m(\u001b[0m\u001b[0mdata\u001b[0m\u001b[0;34m.\u001b[0m\u001b[0mpar0\u001b[0m\u001b[0;34m==\u001b[0m\u001b[0mpar\u001b[0m\u001b[0;34m[\u001b[0m\u001b[0;36m0\u001b[0m\u001b[0;34m]\u001b[0m\u001b[0;34m)\u001b[0m\u001b[0;34m&\u001b[0m\u001b[0;34m(\u001b[0m\u001b[0mdata\u001b[0m\u001b[0;34m.\u001b[0m\u001b[0mpar1\u001b[0m\u001b[0;34m==\u001b[0m\u001b[0mpar\u001b[0m\u001b[0;34m[\u001b[0m\u001b[0;36m1\u001b[0m\u001b[0;34m]\u001b[0m\u001b[0;34m)\u001b[0m\u001b[0;34m]\u001b[0m\u001b[0;34m.\u001b[0m\u001b[0mreset_index\u001b[0m\u001b[0;34m(\u001b[0m\u001b[0mdrop\u001b[0m\u001b[0;34m=\u001b[0m\u001b[0;32mFalse\u001b[0m\u001b[0;34m)\u001b[0m\u001b[0;34m\u001b[0m\u001b[0;34m\u001b[0m\u001b[0m\n\u001b[0m\u001b[1;32m      5\u001b[0m     \u001b[0mdf\u001b[0m\u001b[0;34m=\u001b[0m\u001b[0mdf\u001b[0m\u001b[0;34m.\u001b[0m\u001b[0mset_index\u001b[0m\u001b[0;34m(\u001b[0m\u001b[0;34m'timestamp'\u001b[0m\u001b[0;34m)\u001b[0m\u001b[0;34m\u001b[0m\u001b[0;34m\u001b[0m\u001b[0m\n\u001b[1;32m      6\u001b[0m     \u001b[0mprint\u001b[0m\u001b[0;34m(\u001b[0m\u001b[0mdf\u001b[0m\u001b[0;34m.\u001b[0m\u001b[0mindex\u001b[0m\u001b[0;34m[\u001b[0m\u001b[0;36m0\u001b[0m\u001b[0;34m]\u001b[0m\u001b[0;34m,\u001b[0m\u001b[0mdf\u001b[0m\u001b[0;34m.\u001b[0m\u001b[0mindex\u001b[0m\u001b[0;34m[\u001b[0m\u001b[0;34m-\u001b[0m\u001b[0;36m1\u001b[0m\u001b[0;34m]\u001b[0m\u001b[0;34m,\u001b[0m\u001b[0mpar\u001b[0m\u001b[0;34m)\u001b[0m\u001b[0;34m\u001b[0m\u001b[0;34m\u001b[0m\u001b[0m\n",
      "\u001b[0;32m/opt/anaconda3/envs/env1/lib/python3.9/site-packages/pandas/core/generic.py\u001b[0m in \u001b[0;36m__getattr__\u001b[0;34m(self, name)\u001b[0m\n\u001b[1;32m   5485\u001b[0m         ):\n\u001b[1;32m   5486\u001b[0m             \u001b[0;32mreturn\u001b[0m \u001b[0mself\u001b[0m\u001b[0;34m[\u001b[0m\u001b[0mname\u001b[0m\u001b[0;34m]\u001b[0m\u001b[0;34m\u001b[0m\u001b[0;34m\u001b[0m\u001b[0m\n\u001b[0;32m-> 5487\u001b[0;31m         \u001b[0;32mreturn\u001b[0m \u001b[0mobject\u001b[0m\u001b[0;34m.\u001b[0m\u001b[0m__getattribute__\u001b[0m\u001b[0;34m(\u001b[0m\u001b[0mself\u001b[0m\u001b[0;34m,\u001b[0m \u001b[0mname\u001b[0m\u001b[0;34m)\u001b[0m\u001b[0;34m\u001b[0m\u001b[0;34m\u001b[0m\u001b[0m\n\u001b[0m\u001b[1;32m   5488\u001b[0m \u001b[0;34m\u001b[0m\u001b[0m\n\u001b[1;32m   5489\u001b[0m     \u001b[0;32mdef\u001b[0m \u001b[0m__setattr__\u001b[0m\u001b[0;34m(\u001b[0m\u001b[0mself\u001b[0m\u001b[0;34m,\u001b[0m \u001b[0mname\u001b[0m\u001b[0;34m:\u001b[0m \u001b[0mstr\u001b[0m\u001b[0;34m,\u001b[0m \u001b[0mvalue\u001b[0m\u001b[0;34m)\u001b[0m \u001b[0;34m->\u001b[0m \u001b[0;32mNone\u001b[0m\u001b[0;34m:\u001b[0m\u001b[0;34m\u001b[0m\u001b[0;34m\u001b[0m\u001b[0m\n",
      "\u001b[0;31mAttributeError\u001b[0m: 'DataFrame' object has no attribute 'par0'"
     ]
    }
   ],
   "source": [
    "day=24*60\n",
    "dfl=[]\n",
    "for i,par in enumerate(past_par[1:]):\n",
    "    df=data[(data.par0==par[0])&(data.par1==par[1])].reset_index(drop=False)\n",
    "    df=df.set_index('timestamp')\n",
    "    print(df.index[0],df.index[-1],par)    \n",
    "    df.p_avg.plot()\n",
    "    dfl.append(df.reset_index())\n",
    "    if i==0:\n",
    "        dfl.append(df.reset_index())\n",
    "#     plt.show()\n",
    "\n",
    "df=pd.concat(dfl).reset_index()\n",
    "df=df.rename(columns={'p_avg':'power_load'})"
   ]
  },
  {
   "cell_type": "code",
   "execution_count": 147,
   "id": "5c86f34f",
   "metadata": {},
   "outputs": [
    {
     "name": "stdout",
     "output_type": "stream",
     "text": [
      "experiment_data_2022_04_04_1333\n"
     ]
    },
    {
     "data": {
      "text/plain": [
       "0"
      ]
     },
     "execution_count": 147,
     "metadata": {},
     "output_type": "execute_result"
    }
   ],
   "source": [
    "save_data(df,'experiment_data',npy=False)"
   ]
  },
  {
   "cell_type": "code",
   "execution_count": 230,
   "id": "3a6bcb7c",
   "metadata": {},
   "outputs": [
    {
     "data": {
      "text/plain": [
       "<AxesSubplot:xlabel='timestamp'>"
      ]
     },
     "execution_count": 230,
     "metadata": {},
     "output_type": "execute_result"
    },
    {
     "data": {
      "image/png": "[encoded data removed]",
      "text/plain": [
       "<Figure size 432x288 with 1 Axes>"
      ]
     },
     "metadata": {
      "needs_background": "light"
     },
     "output_type": "display_data"
    }
   ],
   "source": [
    "dfl[-4].set_index('timestamp').p_avg.plot()"
   ]
  },
  {
   "cell_type": "code",
   "execution_count": 35,
   "id": "d38a6fe8",
   "metadata": {},
   "outputs": [],
   "source": [
    "datelist=[\n",
    "'2022-03-07',\n",
    "'2022-03-12',\n",
    "'2022-03-13',\n",
    "'2022-03-14',\n",
    "'2022-03-15',\n",
    "'2022-03-16',\n",
    "'2022-03-17',\n",
    "'2022-03-20',\n",
    "'2022-03-21',\n",
    "'2022-03-22',\n",
    "'2022-03-23',\n",
    "'2022-03-25',\n",
    "'2022-03-30',\n",
    "'2022-03-31',\n",
    "]"
   ]
  },
  {
   "cell_type": "code",
   "execution_count": 39,
   "id": "aa7f4681",
   "metadata": {},
   "outputs": [
    {
     "name": "stdout",
     "output_type": "stream",
     "text": [
      "../data/experiment_power_ehub\n"
     ]
    },
    {
     "data": {
      "text/plain": [
       "0"
      ]
     },
     "execution_count": 39,
     "metadata": {},
     "output_type": "execute_result"
    }
   ],
   "source": [
    "dflist=[]\n",
    "for i,date in enumerate(datelist):\n",
    "    if i==0:\n",
    "        dflist.append(get_ehub_power(date,dt=60))\n",
    "    dflist.append(get_ehub_power(date,dt=60))\n",
    "\n",
    "data=pd.concat(dflist)\n",
    "data.columns=['power_load']\n",
    "save_data(data,'experiment_power_ehub',npy=False,date=False,folder='../data/')"
   ]
  },
  {
   "cell_type": "code",
   "execution_count": 40,
   "id": "6dfd8c69",
   "metadata": {},
   "outputs": [
    {
     "data": {
      "text/html": [
       "<div>\n",
       "<style scoped>\n",
       "    .dataframe tbody tr th:only-of-type {\n",
       "        vertical-align: middle;\n",
       "    }\n",
       "\n",
       "    .dataframe tbody tr th {\n",
       "        vertical-align: top;\n",
       "    }\n",
       "\n",
       "    .dataframe thead th {\n",
       "        text-align: right;\n",
       "    }\n",
       "</style>\n",
       "<table border=\"1\" class=\"dataframe\">\n",
       "  <thead>\n",
       "    <tr style=\"text-align: right;\">\n",
       "      <th></th>\n",
       "      <th>power_load</th>\n",
       "    </tr>\n",
       "    <tr>\n",
       "      <th>index</th>\n",
       "      <th></th>\n",
       "    </tr>\n",
       "  </thead>\n",
       "  <tbody>\n",
       "    <tr>\n",
       "      <th>2022-03-07 00:00:00</th>\n",
       "      <td>19.2074</td>\n",
       "    </tr>\n",
       "    <tr>\n",
       "      <th>2022-03-07 00:01:00</th>\n",
       "      <td>18.5951</td>\n",
       "    </tr>\n",
       "    <tr>\n",
       "      <th>2022-03-07 00:02:00</th>\n",
       "      <td>20.4520</td>\n",
       "    </tr>\n",
       "    <tr>\n",
       "      <th>2022-03-07 00:03:00</th>\n",
       "      <td>20.8269</td>\n",
       "    </tr>\n",
       "    <tr>\n",
       "      <th>2022-03-07 00:04:00</th>\n",
       "      <td>19.9478</td>\n",
       "    </tr>\n",
       "    <tr>\n",
       "      <th>...</th>\n",
       "      <td>...</td>\n",
       "    </tr>\n",
       "    <tr>\n",
       "      <th>2022-03-31 23:55:00</th>\n",
       "      <td>15.8513</td>\n",
       "    </tr>\n",
       "    <tr>\n",
       "      <th>2022-03-31 23:56:00</th>\n",
       "      <td>15.3764</td>\n",
       "    </tr>\n",
       "    <tr>\n",
       "      <th>2022-03-31 23:57:00</th>\n",
       "      <td>13.5637</td>\n",
       "    </tr>\n",
       "    <tr>\n",
       "      <th>2022-03-31 23:58:00</th>\n",
       "      <td>14.1449</td>\n",
       "    </tr>\n",
       "    <tr>\n",
       "      <th>2022-03-31 23:59:00</th>\n",
       "      <td>14.1238</td>\n",
       "    </tr>\n",
       "  </tbody>\n",
       "</table>\n",
       "<p>21600 rows × 1 columns</p>\n",
       "</div>"
      ],
      "text/plain": [
       "                     power_load\n",
       "index                          \n",
       "2022-03-07 00:00:00     19.2074\n",
       "2022-03-07 00:01:00     18.5951\n",
       "2022-03-07 00:02:00     20.4520\n",
       "2022-03-07 00:03:00     20.8269\n",
       "2022-03-07 00:04:00     19.9478\n",
       "...                         ...\n",
       "2022-03-31 23:55:00     15.8513\n",
       "2022-03-31 23:56:00     15.3764\n",
       "2022-03-31 23:57:00     13.5637\n",
       "2022-03-31 23:58:00     14.1449\n",
       "2022-03-31 23:59:00     14.1238\n",
       "\n",
       "[21600 rows x 1 columns]"
      ]
     },
     "execution_count": 40,
     "metadata": {},
     "output_type": "execute_result"
    }
   ],
   "source": [
    "get_data('../data/experiment_power_ehub.csv',npy=False)"
   ]
  },
  {
   "cell_type": "code",
   "execution_count": 38,
   "id": "5be11e12",
   "metadata": {},
   "outputs": [
    {
     "data": {
      "text/plain": [
       "14.0"
      ]
     },
     "execution_count": 38,
     "metadata": {},
     "output_type": "execute_result"
    }
   ],
   "source": [
    "len(data)/day\n"
   ]
  },
  {
   "cell_type": "code",
   "execution_count": 34,
   "id": "cb34abbc",
   "metadata": {},
   "outputs": [
    {
     "data": {
      "text/html": [
       "<div>\n",
       "<style scoped>\n",
       "    .dataframe tbody tr th:only-of-type {\n",
       "        vertical-align: middle;\n",
       "    }\n",
       "\n",
       "    .dataframe tbody tr th {\n",
       "        vertical-align: top;\n",
       "    }\n",
       "\n",
       "    .dataframe thead th {\n",
       "        text-align: right;\n",
       "    }\n",
       "</style>\n",
       "<table border=\"1\" class=\"dataframe\">\n",
       "  <thead>\n",
       "    <tr style=\"text-align: right;\">\n",
       "      <th></th>\n",
       "      <th>power_bypass_ehub</th>\n",
       "    </tr>\n",
       "    <tr>\n",
       "      <th>timestamp</th>\n",
       "      <th></th>\n",
       "    </tr>\n",
       "  </thead>\n",
       "  <tbody>\n",
       "    <tr>\n",
       "      <th>2022-03-07 00:00:00</th>\n",
       "      <td>19.2074</td>\n",
       "    </tr>\n",
       "    <tr>\n",
       "      <th>2022-03-07 00:01:00</th>\n",
       "      <td>18.5951</td>\n",
       "    </tr>\n",
       "    <tr>\n",
       "      <th>2022-03-07 00:02:00</th>\n",
       "      <td>20.4520</td>\n",
       "    </tr>\n",
       "    <tr>\n",
       "      <th>2022-03-07 00:03:00</th>\n",
       "      <td>20.8269</td>\n",
       "    </tr>\n",
       "    <tr>\n",
       "      <th>2022-03-07 00:04:00</th>\n",
       "      <td>19.9478</td>\n",
       "    </tr>\n",
       "    <tr>\n",
       "      <th>...</th>\n",
       "      <td>...</td>\n",
       "    </tr>\n",
       "    <tr>\n",
       "      <th>2022-03-07 23:55:00</th>\n",
       "      <td>34.5436</td>\n",
       "    </tr>\n",
       "    <tr>\n",
       "      <th>2022-03-07 23:56:00</th>\n",
       "      <td>34.6802</td>\n",
       "    </tr>\n",
       "    <tr>\n",
       "      <th>2022-03-07 23:57:00</th>\n",
       "      <td>35.6396</td>\n",
       "    </tr>\n",
       "    <tr>\n",
       "      <th>2022-03-07 23:58:00</th>\n",
       "      <td>36.0565</td>\n",
       "    </tr>\n",
       "    <tr>\n",
       "      <th>2022-03-07 23:59:00</th>\n",
       "      <td>37.6388</td>\n",
       "    </tr>\n",
       "  </tbody>\n",
       "</table>\n",
       "<p>1440 rows × 1 columns</p>\n",
       "</div>"
      ],
      "text/plain": [
       "                     power_bypass_ehub\n",
       "timestamp                             \n",
       "2022-03-07 00:00:00            19.2074\n",
       "2022-03-07 00:01:00            18.5951\n",
       "2022-03-07 00:02:00            20.4520\n",
       "2022-03-07 00:03:00            20.8269\n",
       "2022-03-07 00:04:00            19.9478\n",
       "...                                ...\n",
       "2022-03-07 23:55:00            34.5436\n",
       "2022-03-07 23:56:00            34.6802\n",
       "2022-03-07 23:57:00            35.6396\n",
       "2022-03-07 23:58:00            36.0565\n",
       "2022-03-07 23:59:00            37.6388\n",
       "\n",
       "[1440 rows x 1 columns]"
      ]
     },
     "execution_count": 34,
     "metadata": {},
     "output_type": "execute_result"
    }
   ],
   "source": [
    "get_ehub_power('2022-03-07',dt=60)"
   ]
  }
 ],
 "metadata": {
  "kernelspec": {
   "display_name": "env1",
   "language": "python",
   "name": "env1"
  },
  "language_info": {
   "codemirror_mode": {
    "name": "ipython",
    "version": 3
   },
   "file_extension": ".py",
   "mimetype": "text/x-python",
   "name": "python",
   "nbconvert_exporter": "python",
   "pygments_lexer": "ipython3",
   "version": "3.9.7"
  },
  "varInspector": {
   "cols": {
    "lenName": 16,
    "lenType": 16,
    "lenVar": 40
   },
   "kernels_config": {
    "python": {
     "delete_cmd_postfix": "",
     "delete_cmd_prefix": "del ",
     "library": "var_list.py",
     "varRefreshCmd": "print(var_dic_list())"
    },
    "r": {
     "delete_cmd_postfix": ") ",
     "delete_cmd_prefix": "rm(",
     "library": "var_list.r",
     "varRefreshCmd": "cat(var_dic_list()) "
    }
   },
   "types_to_exclude": [
    "module",
    "function",
    "builtin_function_or_method",
    "instance",
    "_Feature"
   ],
   "window_display": false
  }
 },
 "nbformat": 4,
 "nbformat_minor": 5
}

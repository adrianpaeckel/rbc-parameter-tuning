{
 "cells": [
  {
   "cell_type": "code",
   "execution_count": 1,
   "id": "e96a7e88",
   "metadata": {},
   "outputs": [
    {
     "name": "stderr",
     "output_type": "stream",
     "text": [
      "2022-05-25 09:41:26.450179: I tensorflow/core/platform/cpu_feature_guard.cc:142] This TensorFlow binary is optimized with oneAPI Deep Neural Network Library (oneDNN) to use the following CPU instructions in performance-critical operations:  AVX2 FMA\n",
      "To enable them in other operations, rebuild TensorFlow with the appropriate compiler flags.\n"
     ]
    },
    {
     "name": "stdout",
     "output_type": "stream",
     "text": [
      "Model: \"dense\"\n",
      "_________________________________________________________________\n",
      "Layer (type)                 Output Shape              Param #   \n",
      "=================================================================\n",
      "Hidden1 (Dense)              (None, 1, 2)              4         \n",
      "_________________________________________________________________\n",
      "Hidden2 (Dense)              (None, 1, 7)              21        \n",
      "_________________________________________________________________\n",
      "Output (Dense)               (None, 1, 1)              8         \n",
      "=================================================================\n",
      "Total params: 33\n",
      "Trainable params: 33\n",
      "Non-trainable params: 0\n",
      "_________________________________________________________________\n"
     ]
    }
   ],
   "source": [
    "import numpy as np\n",
    "import matplotlib.pyplot as plt\n",
    "import seaborn as sns\n",
    "import pandas as pd\n",
    "import matplotlib as mpl\n",
    "\n",
    "import tensorflow as tf\n",
    "from tensorflow import keras\n",
    "from tensorflow.keras import layers\n",
    "\n",
    "dense = tf.keras.Sequential([\n",
    "    # Shape: (time, features) => (time*features)\n",
    "    tf.keras.layers.Input((1,1),name='Input'),\n",
    "#     tf.keras.layers.Conv1D(2,input_width),\n",
    "#     tf.keras.layers.Normalization(mean=train_mean.values, variance=np.square(train_std.values)),\n",
    "    tf.keras.layers.Dense(units=2, activation='relu',name='Hidden1'),\n",
    "    tf.keras.layers.Dense(units=7, activation='relu',name='Hidden2'),\n",
    "    tf.keras.layers.Dense(units=1,name='Output'),\n",
    "],name='dense')\n",
    "dense.summary()\n",
    "plt.style.use('science')\n",
    "\n",
    "mpl.rcParams['figure.figsize'] = (12, 4)\n",
    "mpl.rcParams['axes.grid'] = True\n",
    "# # mpl.rcParams['axes.grid.axis']='y'\n",
    "# mpl.rcParams['legend.markerscale']=8\n",
    "# mpl.rcParams['text.usetex']=True\n",
    "\n",
    "\n",
    "\n",
    "tf.keras.utils.plot_model(\n",
    "    dense, to_file='battery_model.pdf', show_shapes=True, show_dtype=False,\n",
    "    show_layer_names=True, rankdir='TB', expand_nested=False, dpi=96,\n",
    "    layer_range=None\n",
    ")"
   ]
  },
  {
   "cell_type": "code",
   "execution_count": 2,
   "id": "a5552638",
   "metadata": {},
   "outputs": [],
   "source": [
    "demand_10min_model=tf.keras.models.load_model('../../saved_models/loss_10minpowerdev_convtd_powerdemand_dayweeksincos_4h')\n",
    "demand_model=tf.keras.models.load_model('../../saved_models/loss_demand_convtd_1dpowerdemand_Tfc_dayweeksincos_7w')\n",
    "PV_model=tf.keras.models.load_model('../../saved_models/s1PVpower_3conv')"
   ]
  },
  {
   "cell_type": "code",
   "execution_count": 3,
   "id": "940428cd",
   "metadata": {},
   "outputs": [],
   "source": [
    "# demand_10min_model.i='Input'\n",
    "demand_10min_model.layers[0]._name='Hidden0'\n",
    "demand_10min_model.layers[1]._name='Hidden1'\n",
    "demand_10min_model.layers[2]._name='Hidden2'\n",
    "demand_10min_model.layers[3]._name='Output'"
   ]
  },
  {
   "cell_type": "code",
   "execution_count": 4,
   "id": "4e4b050b",
   "metadata": {},
   "outputs": [
    {
     "data": {
      "text/plain": [
       "[<keras.layers.preprocessing.normalization.Normalization at 0x7f7aa5229f70>,\n",
       " <keras.layers.convolutional.Conv1D at 0x7f7aa5219850>,\n",
       " <keras.layers.core.Dense at 0x7f7aad849e20>,\n",
       " <keras.layers.core.Dense at 0x7f7aad8539a0>]"
      ]
     },
     "execution_count": 4,
     "metadata": {},
     "output_type": "execute_result"
    }
   ],
   "source": [
    "demand_10min_model.layers"
   ]
  },
  {
   "cell_type": "code",
   "execution_count": 10,
   "id": "68034491",
   "metadata": {},
   "outputs": [],
   "source": [
    "hour=60\n",
    "dense = tf.keras.Sequential([\n",
    "    # Shape: (time, features) => (time*features)\n",
    "    tf.keras.layers.Input((167,5),name='Input'),\n",
    "#     tf.keras.layers.Conv1D(2,input_width),\n",
    "#     tf.keras.layers.Normalization(mean=train_mean.values, variance=np.square(train_std.values)),\n",
    "    tf.keras.layers.Conv1D(filters=702,kernel_size= 24,activation='relu',name='Hidden1'),\n",
    "    tf.keras.layers.Dense(units=714, activation='relu',name='Hidden2'),\n",
    "    tf.keras.layers.Dense(units=1,name='Output'),\n",
    "],name='dense')\n",
    "\n",
    "plt.style.use('science')\n",
    "\n",
    "mpl.rcParams['figure.figsize'] = (12, 4)\n",
    "mpl.rcParams['axes.grid'] = True\n",
    "# # mpl.rcParams['axes.grid.axis']='y'\n",
    "# mpl.rcParams['legend.markerscale']=8\n",
    "# mpl.rcParams['text.usetex']=True\n",
    "\n",
    "\n",
    "\n",
    "tf.keras.utils.plot_model(\n",
    "    dense, to_file='demand_10min_model.pdf', show_shapes=True, show_dtype=False,\n",
    "    show_layer_names=True, rankdir='TB', expand_nested=False, dpi=96,\n",
    "    layer_range=None\n",
    ")"
   ]
  },
  {
   "cell_type": "code",
   "execution_count": 9,
   "id": "d723f842",
   "metadata": {},
   "outputs": [],
   "source": [
    "hour=60\n",
    "dense = tf.keras.Sequential([\n",
    "    # Shape: (time, features) => (time*features)\n",
    "    tf.keras.layers.Input((191,6),name='Input'),\n",
    "#     tf.keras.layers.Conv1D(2,input_width),\n",
    "#     tf.keras.layers.Normalization(mean=train_mean.values, variance=np.square(train_std.values)),\n",
    "    tf.keras.layers.Conv1D(filters=108,kernel_size= 7*24,activation='relu',name='Hidden1'),\n",
    "    tf.keras.layers.Dense(units=80, activation='relu',name='Hidden2'),\n",
    "    tf.keras.layers.Dense(units=1,name='Output'),\n",
    "],name='dense')\n",
    "\n",
    "plt.style.use('science')\n",
    "\n",
    "mpl.rcParams['figure.figsize'] = (12, 4)\n",
    "mpl.rcParams['axes.grid'] = True\n",
    "# # mpl.rcParams['axes.grid.axis']='y'\n",
    "# mpl.rcParams['legend.markerscale']=8\n",
    "# mpl.rcParams['text.usetex']=True\n",
    "\n",
    "\n",
    "\n",
    "tf.keras.utils.plot_model(\n",
    "    dense, to_file='demand_hourly_model.pdf', show_shapes=True, show_dtype=False,\n",
    "    show_layer_names=True, rankdir='TB', expand_nested=False, dpi=96,\n",
    "    layer_range=None\n",
    ")"
   ]
  },
  {
   "cell_type": "code",
   "execution_count": 8,
   "id": "2fe3b229",
   "metadata": {},
   "outputs": [],
   "source": [
    "hour=60\n",
    "dense = tf.keras.Sequential([\n",
    "    # Shape: (time, features) => (time*features)\n",
    "    tf.keras.layers.Input((26,5),name='Input'),\n",
    "#     tf.keras.layers.Conv1D(2,input_width),\n",
    "#     tf.keras.layers.Normalization(mean=train_mean.values, variance=np.square(train_std.values)),\n",
    "    tf.keras.layers.Conv1D(filters=47,kernel_size= 3,activation='relu',name='Hidden1'),\n",
    "    tf.keras.layers.Dense(units=43, activation='relu',name='Hidden2'),\n",
    "    tf.keras.layers.Dense(units=1,name='Output'),\n",
    "],name='dense')\n",
    "\n",
    "plt.style.use('science')\n",
    "\n",
    "mpl.rcParams['figure.figsize'] = (12, 4)\n",
    "mpl.rcParams['axes.grid'] = True\n",
    "# # mpl.rcParams['axes.grid.axis']='y'\n",
    "# mpl.rcParams['legend.markerscale']=8\n",
    "# mpl.rcParams['text.usetex']=True\n",
    "\n",
    "\n",
    "\n",
    "tf.keras.utils.plot_model(\n",
    "    dense, to_file='PV_model.pdf', show_shapes=True, show_dtype=False,\n",
    "    show_layer_names=True, rankdir='TB', expand_nested=False, dpi=96,\n",
    "    layer_range=None\n",
    ")"
   ]
  },
  {
   "cell_type": "code",
   "execution_count": 65,
   "id": "52080cc3",
   "metadata": {},
   "outputs": [
    {
     "data": {
      "image/png": "[encoded data removed]",
      "text/plain": [
       "<IPython.core.display.Image object>"
      ]
     },
     "execution_count": 65,
     "metadata": {},
     "output_type": "execute_result"
    }
   ],
   "source": [
    "tf.keras.utils.plot_model(\n",
    "    PV_model, show_shapes=True, show_dtype=False,\n",
    "    show_layer_names=True, rankdir='TB', expand_nested=False, dpi=96,\n",
    "    layer_range=None\n",
    ")"
   ]
  }
 ],
 "metadata": {
  "kernelspec": {
   "display_name": "mp",
   "language": "python",
   "name": "mp"
  },
  "language_info": {
   "codemirror_mode": {
    "name": "ipython",
    "version": 3
   },
   "file_extension": ".py",
   "mimetype": "text/x-python",
   "name": "python",
   "nbconvert_exporter": "python",
   "pygments_lexer": "ipython3",
   "version": "3.9.7"
  },
  "varInspector": {
   "cols": {
    "lenName": 16,
    "lenType": 16,
    "lenVar": 40
   },
   "kernels_config": {
    "python": {
     "delete_cmd_postfix": "",
     "delete_cmd_prefix": "del ",
     "library": "var_list.py",
     "varRefreshCmd": "print(var_dic_list())"
    },
    "r": {
     "delete_cmd_postfix": ") ",
     "delete_cmd_prefix": "rm(",
     "library": "var_list.r",
     "varRefreshCmd": "cat(var_dic_list()) "
    }
   },
   "types_to_exclude": [
    "module",
    "function",
    "builtin_function_or_method",
    "instance",
    "_Feature"
   ],
   "window_display": false
  }
 },
 "nbformat": 4,
 "nbformat_minor": 5
}

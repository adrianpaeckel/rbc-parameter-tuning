{
 "cells": [
  {
   "cell_type": "code",
   "execution_count": 17,
   "id": "eeb9b850",
   "metadata": {},
   "outputs": [
    {
     "data": {
      "image/png": "[encoded data removed]",
      "text/plain": [
       "<Figure size 360x360 with 1 Axes>"
      ]
     },
     "metadata": {
      "needs_background": "light"
     },
     "output_type": "display_data"
    },
    {
     "data": {
      "text/plain": [
       "<Figure size 360x360 with 0 Axes>"
      ]
     },
     "metadata": {},
     "output_type": "display_data"
    }
   ],
   "source": [
    "import numpy as np\n",
    "import matplotlib.pyplot as plt\n",
    "import seaborn as sns\n",
    "import pandas as pd\n",
    "import matplotlib as mpl\n",
    "\n",
    "plt.style.use('science')\n",
    "\n",
    "mpl.rcParams['figure.figsize'] = (5, 5)\n",
    "mpl.rcParams['axes.grid'] = True\n",
    "\n",
    "# # mpl.rcParams['axes.grid.axis']='y'\n",
    "# mpl.rcParams['legend.markerscale']=8\n",
    "# mpl.rcParams['text.usetex']=True\n",
    "\n",
    "data=pd.read_csv('error.csv')\n",
    "colors=['dimgray','blue']\n",
    "\n",
    "\n",
    "plt.hist(data.error_dsoc_m2,bins=np.linspace(-0.3,0.3,200),label=r'$\\Delta \\hat{s}$ deviation PWL')\n",
    "# plt.xlabel(r'$\\Delta$SoC[\\%]')\n",
    "# plt.ylim([-2,2])\n",
    "plt.ylabel(r'count')\n",
    "plt.xlim([-0.2,0.2])\n",
    "plt.legend(markerscale=8)\n",
    "plt.ticklabel_format(axis=\"both\", style=\"sci\", scilimits=(0,0))\n",
    "\n",
    "# plt.yticks(np.arange(-2,2.1,1))\n",
    "# plt.savefig('error_hist_PWL.png')\n",
    "# plt.show()\n",
    "\n",
    "\n",
    "# plt.figure(2)\n",
    "plt.hist(data.error_dsoc_m5,bins=np.linspace(-0.3,0.3,200),label=r'$\\Delta \\hat{s}$ deviation MLP',alpha=0.8)\n",
    "\n",
    "plt.xlabel(r'SoC deviation [\\%]')\n",
    "# plt.ylim([-2,2])\n",
    "plt.ylabel(r'count')\n",
    "plt.xlim([-0.2,0.2])\n",
    "plt.ticklabel_format(axis=\"both\", style=\"sci\", scilimits=(0,0))\n",
    "\n",
    "plt.legend(markerscale=8)\n",
    "plt.show()\n",
    "# plt.yticks(np.arange(-2,2.1,1))\n",
    "plt.savefig('error_hist_bat.png')"
   ]
  },
  {
   "cell_type": "code",
   "execution_count": null,
   "id": "2a131ba5",
   "metadata": {},
   "outputs": [],
   "source": []
  }
 ],
 "metadata": {
  "kernelspec": {
   "display_name": "mp",
   "language": "python",
   "name": "mp"
  },
  "language_info": {
   "codemirror_mode": {
    "name": "ipython",
    "version": 3
   },
   "file_extension": ".py",
   "mimetype": "text/x-python",
   "name": "python",
   "nbconvert_exporter": "python",
   "pygments_lexer": "ipython3",
   "version": "3.9.7"
  },
  "varInspector": {
   "cols": {
    "lenName": 16,
    "lenType": 16,
    "lenVar": 40
   },
   "kernels_config": {
    "python": {
     "delete_cmd_postfix": "",
     "delete_cmd_prefix": "del ",
     "library": "var_list.py",
     "varRefreshCmd": "print(var_dic_list())"
    },
    "r": {
     "delete_cmd_postfix": ") ",
     "delete_cmd_prefix": "rm(",
     "library": "var_list.r",
     "varRefreshCmd": "cat(var_dic_list()) "
    }
   },
   "types_to_exclude": [
    "module",
    "function",
    "builtin_function_or_method",
    "instance",
    "_Feature"
   ],
   "window_display": false
  }
 },
 "nbformat": 4,
 "nbformat_minor": 5
}

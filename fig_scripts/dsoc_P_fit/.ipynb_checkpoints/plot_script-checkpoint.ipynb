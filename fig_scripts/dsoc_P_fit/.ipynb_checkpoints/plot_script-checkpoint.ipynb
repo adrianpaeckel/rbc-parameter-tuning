{
 "cells": [
  {
   "cell_type": "code",
   "execution_count": 1,
   "id": "196e32dc",
   "metadata": {},
   "outputs": [],
   "source": [
    "import numpy as np\n",
    "import matplotlib.pyplot as plt\n",
    "import seaborn as sns\n",
    "import pandas as pd\n",
    "import matplotlib as mpl\n",
    "\n",
    "plt.style.use('science')\n",
    "\n",
    "mpl.rcParams['figure.figsize'] = (12, 4)\n",
    "mpl.rcParams['axes.grid'] = True\n",
    "# # mpl.rcParams['axes.grid.axis']='y'\n",
    "# mpl.rcParams['legend.markerscale']=8\n",
    "# mpl.rcParams['text.usetex']=True\n",
    "\n",
    "data=pd.read_csv('battery_dsoc_p.csv')\n",
    "colors=['dimgray','red','blue']\n",
    "\n",
    "plt.plot(data.power_t200_fil.values,data.dsoc.values,'.',color=colors[0],label=r'$\\Delta s$ measurement',markersize=0.5,alpha=1)\n",
    "# plt.plot(data.power_t200_fil,data.shift(-1).dsoc_m4,'.b',label='$\\Delta s$ PWL ',markersize=1)\n",
    "plt.plot(data.power_t200_fil.values,data.dsoc_m2.values,'.',color=colors[1],label='$\\Delta s$ PWL',markersize=1)\n",
    "plt.plot(data.power_t200_fil.values,data.dsoc_m5.values,'.',color=colors[2],label='$\\Delta s$ ANN',markersize=1)\n",
    "plt.ylabel(r'$\\Delta$SoC[\\%]')\n",
    "plt.ylim([-2,2])\n",
    "plt.xlabel(r'Active power [kW]')\n",
    "plt.xlim([-150,150])\n",
    "plt.legend(markerscale=8)\n",
    "plt.yticks(np.arange(-2,2.1,1))\n",
    "plt.savefig('dSoC_P.png')"
   ]
  }
 ],
 "metadata": {
  "kernelspec": {
   "display_name": "mp",
   "language": "python",
   "name": "mp"
  },
  "language_info": {
   "codemirror_mode": {
    "name": "ipython",
    "version": 3
   },
   "file_extension": ".py",
   "mimetype": "text/x-python",
   "name": "python",
   "nbconvert_exporter": "python",
   "pygments_lexer": "ipython3",
   "version": "3.9.7"
  },
  "varInspector": {
   "cols": {
    "lenName": 16,
    "lenType": 16,
    "lenVar": 40
   },
   "kernels_config": {
    "python": {
     "delete_cmd_postfix": "",
     "delete_cmd_prefix": "del ",
     "library": "var_list.py",
     "varRefreshCmd": "print(var_dic_list())"
    },
    "r": {
     "delete_cmd_postfix": ") ",
     "delete_cmd_prefix": "rm(",
     "library": "var_list.r",
     "varRefreshCmd": "cat(var_dic_list()) "
    }
   },
   "types_to_exclude": [
    "module",
    "function",
    "builtin_function_or_method",
    "instance",
    "_Feature"
   ],
   "window_display": false
  }
 },
 "nbformat": 4,
 "nbformat_minor": 5
}

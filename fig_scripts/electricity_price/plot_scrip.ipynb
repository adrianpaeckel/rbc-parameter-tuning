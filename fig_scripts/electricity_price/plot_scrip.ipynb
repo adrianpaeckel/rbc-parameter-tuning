{
 "cells": [
  {
   "cell_type": "code",
   "execution_count": 17,
   "id": "68e75a8c",
   "metadata": {},
   "outputs": [
    {
     "data": {
      "image/png": "[encoded data removed]",
      "text/plain": [
       "<Figure size 504x216 with 1 Axes>"
      ]
     },
     "metadata": {
      "needs_background": "light"
     },
     "output_type": "display_data"
    }
   ],
   "source": [
    "import numpy as np\n",
    "import matplotlib.pyplot as plt\n",
    "import seaborn as sns\n",
    "import pandas as pd\n",
    "import matplotlib as mpl\n",
    "import sys\n",
    "sys.path.append('../..')\n",
    "from mtfunc.helper import *\n",
    "\n",
    "plt.style.use('science')\n",
    "\n",
    "mpl.rcParams['figure.figsize'] = (12, 4)\n",
    "mpl.rcParams['axes.grid'] = True\n",
    "day=24*60\n",
    "dt=1\n",
    "P1=188 # buy price in euro/MWh\n",
    "P2=170\n",
    "P3=115\n",
    "S1=53 #sell price in euro/MWh\n",
    "B1=50\n",
    "def price_fun(k=None):\n",
    "    price=DemandSignal(day,dt,1)\n",
    "    price.step_signal([0.29,0.33,0.54,0.71,0.87],[P3,P2,P1,P2,P1,P3])\n",
    "    if k is None:\n",
    "        return price.signal\n",
    "    else:\n",
    "        return price.signal[k]\n",
    "plt.figure(figsize=(7,3))    \n",
    "price=DemandSignal(day,dt,1)\n",
    "price.step_signal([0.29,0.33,0.54,0.71,0.87],[P3,P2,P1,P2,P1,P3])\n",
    "plt.step(price.time,price.signal)\n",
    "plt.ylim([0,200])\n",
    "plt.xlim([0,24])\n",
    "plt.ylabel('electricity cost [euro/MWh]')\n",
    "plt.xlabel('time [h]')\n",
    "plt.savefig('elprice_spain.png')"
   ]
  }
 ],
 "metadata": {
  "kernelspec": {
   "display_name": "env1",
   "language": "python",
   "name": "env1"
  },
  "language_info": {
   "codemirror_mode": {
    "name": "ipython",
    "version": 3
   },
   "file_extension": ".py",
   "mimetype": "text/x-python",
   "name": "python",
   "nbconvert_exporter": "python",
   "pygments_lexer": "ipython3",
   "version": "3.9.7"
  },
  "varInspector": {
   "cols": {
    "lenName": 16,
    "lenType": 16,
    "lenVar": 40
   },
   "kernels_config": {
    "python": {
     "delete_cmd_postfix": "",
     "delete_cmd_prefix": "del ",
     "library": "var_list.py",
     "varRefreshCmd": "print(var_dic_list())"
    },
    "r": {
     "delete_cmd_postfix": ") ",
     "delete_cmd_prefix": "rm(",
     "library": "var_list.r",
     "varRefreshCmd": "cat(var_dic_list()) "
    }
   },
   "types_to_exclude": [
    "module",
    "function",
    "builtin_function_or_method",
    "instance",
    "_Feature"
   ],
   "window_display": false
  }
 },
 "nbformat": 4,
 "nbformat_minor": 5
}

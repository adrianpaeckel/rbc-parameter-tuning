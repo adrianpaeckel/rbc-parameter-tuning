{
 "cells": [
  {
   "cell_type": "code",
   "execution_count": null,
   "id": "68e75a8c",
   "metadata": {},
   "outputs": [],
   "source": [
    "import numpy as np\n",
    "import matplotlib.pyplot as plt\n",
    "import seaborn as sns\n",
    "import pandas as pd\n",
    "import matplotlib as mpl\n",
    "\n",
    "plt.style.use('science')\n",
    "\n",
    "mpl.rcParams['figure.figsize'] = (12, 4)\n",
    "mpl.rcParams['axes.grid'] = True\n",
    "\n",
    "\n",
    "data=pd.read_csv('sim_day_33.csv',index_col='index').reset_index(drop=True)\n",
    "\n",
    "plt.plot(data.index.values/60,data.soc_fil,label='$s_{k}$ measurement',color='dimgray',linewidth=1.2)\n",
    "plt.plot(data.index.values/60,data.PWL,':',label='$s_{k}$ PWL',linewidth=2)\n",
    "plt.plot(data.index.values/60,data.MLP,':',label='$s_{k}$ MLP',linewidth=2)\n",
    "plt.ylabel(r'SoC[\\%]')\n",
    "# plt.ylim([0,2])\n",
    "plt.xlabel(r'Time [h]')\n",
    "plt.xlim([0,24])\n",
    "plt.legend(markerscale=8)\n",
    "plt.yticks(np.arange(60,91,10))\n",
    "plt.xticks(np.arange(0,24.1,6))\n",
    "\n",
    "plt.savefig('sim_day_33.png')"
   ]
  }
 ],
 "metadata": {
  "kernelspec": {
   "display_name": "env1",
   "language": "python",
   "name": "env1"
  },
  "language_info": {
   "codemirror_mode": {
    "name": "ipython",
    "version": 3
   },
   "file_extension": ".py",
   "mimetype": "text/x-python",
   "name": "python",
   "nbconvert_exporter": "python",
   "pygments_lexer": "ipython3",
   "version": "3.9.7"
  },
  "varInspector": {
   "cols": {
    "lenName": 16,
    "lenType": 16,
    "lenVar": 40
   },
   "kernels_config": {
    "python": {
     "delete_cmd_postfix": "",
     "delete_cmd_prefix": "del ",
     "library": "var_list.py",
     "varRefreshCmd": "print(var_dic_list())"
    },
    "r": {
     "delete_cmd_postfix": ") ",
     "delete_cmd_prefix": "rm(",
     "library": "var_list.r",
     "varRefreshCmd": "cat(var_dic_list()) "
    }
   },
   "types_to_exclude": [
    "module",
    "function",
    "builtin_function_or_method",
    "instance",
    "_Feature"
   ],
   "window_display": false
  }
 },
 "nbformat": 4,
 "nbformat_minor": 5
}
